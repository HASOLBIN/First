{
 "cells": [
  {
   "cell_type": "markdown",
   "metadata": {},
   "source": [
    "# 181218"
   ]
  },
  {
   "cell_type": "markdown",
   "metadata": {},
   "source": [
    "# 데이터 불러오기"
   ]
  },
  {
   "cell_type": "code",
   "execution_count": 19,
   "metadata": {},
   "outputs": [],
   "source": [
    "import pandas as pd\n",
    "power = pd.read_excel('data/시도별_용도별.xls') # 데이터 불러오기, header=1은 한 행을 지우고 출력"
   ]
  },
  {
   "cell_type": "code",
   "execution_count": 20,
   "metadata": {},
   "outputs": [
    {
     "data": {
      "text/html": [
       "<div>\n",
       "<style scoped>\n",
       "    .dataframe tbody tr th:only-of-type {\n",
       "        vertical-align: middle;\n",
       "    }\n",
       "\n",
       "    .dataframe tbody tr th {\n",
       "        vertical-align: top;\n",
       "    }\n",
       "\n",
       "    .dataframe thead th {\n",
       "        text-align: right;\n",
       "    }\n",
       "</style>\n",
       "<table border=\"1\" class=\"dataframe\">\n",
       "  <thead>\n",
       "    <tr style=\"text-align: right;\">\n",
       "      <th></th>\n",
       "      <th>구분</th>\n",
       "      <th>주거용</th>\n",
       "      <th>공공용</th>\n",
       "      <th>서비스업</th>\n",
       "      <th>업무용합계</th>\n",
       "      <th>농림어업</th>\n",
       "      <th>광업</th>\n",
       "      <th>제조업</th>\n",
       "      <th>식료품제조</th>\n",
       "      <th>섬유,의류</th>\n",
       "      <th>...</th>\n",
       "      <th>기타기계</th>\n",
       "      <th>사무기기</th>\n",
       "      <th>전기기기</th>\n",
       "      <th>영상,음향</th>\n",
       "      <th>자동차</th>\n",
       "      <th>기타운송</th>\n",
       "      <th>가구및기타</th>\n",
       "      <th>재생재료</th>\n",
       "      <th>산업용합계</th>\n",
       "      <th>합계</th>\n",
       "    </tr>\n",
       "  </thead>\n",
       "  <tbody>\n",
       "    <tr>\n",
       "      <th>0</th>\n",
       "      <td>강원</td>\n",
       "      <td>1940933</td>\n",
       "      <td>1400421</td>\n",
       "      <td>6203749</td>\n",
       "      <td>7604170</td>\n",
       "      <td>607139</td>\n",
       "      <td>398287</td>\n",
       "      <td>6002286</td>\n",
       "      <td>546621</td>\n",
       "      <td>13027</td>\n",
       "      <td>...</td>\n",
       "      <td>35063</td>\n",
       "      <td>2019</td>\n",
       "      <td>38062</td>\n",
       "      <td>43986</td>\n",
       "      <td>113448</td>\n",
       "      <td>108629</td>\n",
       "      <td>12872</td>\n",
       "      <td>3418</td>\n",
       "      <td>7007712</td>\n",
       "      <td>16552816</td>\n",
       "    </tr>\n",
       "    <tr>\n",
       "      <th>1</th>\n",
       "      <td>개성</td>\n",
       "      <td>0</td>\n",
       "      <td>0</td>\n",
       "      <td>0</td>\n",
       "      <td>0</td>\n",
       "      <td>0</td>\n",
       "      <td>0</td>\n",
       "      <td>0</td>\n",
       "      <td>0</td>\n",
       "      <td>0</td>\n",
       "      <td>...</td>\n",
       "      <td>0</td>\n",
       "      <td>0</td>\n",
       "      <td>0</td>\n",
       "      <td>0</td>\n",
       "      <td>0</td>\n",
       "      <td>0</td>\n",
       "      <td>0</td>\n",
       "      <td>0</td>\n",
       "      <td>0</td>\n",
       "      <td>0</td>\n",
       "    </tr>\n",
       "    <tr>\n",
       "      <th>2</th>\n",
       "      <td>경기</td>\n",
       "      <td>16587710</td>\n",
       "      <td>5533662</td>\n",
       "      <td>33434551</td>\n",
       "      <td>38968213</td>\n",
       "      <td>2371347</td>\n",
       "      <td>317263</td>\n",
       "      <td>56603327</td>\n",
       "      <td>2544420</td>\n",
       "      <td>2109963</td>\n",
       "      <td>...</td>\n",
       "      <td>3613798</td>\n",
       "      <td>317244</td>\n",
       "      <td>1040171</td>\n",
       "      <td>24519644</td>\n",
       "      <td>2977165</td>\n",
       "      <td>67594</td>\n",
       "      <td>1833112</td>\n",
       "      <td>133041</td>\n",
       "      <td>59291937</td>\n",
       "      <td>114847859</td>\n",
       "    </tr>\n",
       "    <tr>\n",
       "      <th>3</th>\n",
       "      <td>경남</td>\n",
       "      <td>4260988</td>\n",
       "      <td>1427560</td>\n",
       "      <td>8667737</td>\n",
       "      <td>10095297</td>\n",
       "      <td>2141813</td>\n",
       "      <td>95989</td>\n",
       "      <td>18053778</td>\n",
       "      <td>932743</td>\n",
       "      <td>346974</td>\n",
       "      <td>...</td>\n",
       "      <td>1902913</td>\n",
       "      <td>8070</td>\n",
       "      <td>924235</td>\n",
       "      <td>534196</td>\n",
       "      <td>2156059</td>\n",
       "      <td>2048646</td>\n",
       "      <td>262523</td>\n",
       "      <td>47662</td>\n",
       "      <td>20291580</td>\n",
       "      <td>34647864</td>\n",
       "    </tr>\n",
       "    <tr>\n",
       "      <th>4</th>\n",
       "      <td>경북</td>\n",
       "      <td>3302463</td>\n",
       "      <td>1578115</td>\n",
       "      <td>8487402</td>\n",
       "      <td>10065517</td>\n",
       "      <td>1747462</td>\n",
       "      <td>224568</td>\n",
       "      <td>30115601</td>\n",
       "      <td>566071</td>\n",
       "      <td>3780171</td>\n",
       "      <td>...</td>\n",
       "      <td>782570</td>\n",
       "      <td>14468</td>\n",
       "      <td>750786</td>\n",
       "      <td>4174971</td>\n",
       "      <td>2356890</td>\n",
       "      <td>123935</td>\n",
       "      <td>60280</td>\n",
       "      <td>77104</td>\n",
       "      <td>32087631</td>\n",
       "      <td>45455611</td>\n",
       "    </tr>\n",
       "    <tr>\n",
       "      <th>5</th>\n",
       "      <td>광주</td>\n",
       "      <td>1954876</td>\n",
       "      <td>565527</td>\n",
       "      <td>3174973</td>\n",
       "      <td>3740500</td>\n",
       "      <td>74608</td>\n",
       "      <td>2898</td>\n",
       "      <td>2910768</td>\n",
       "      <td>161072</td>\n",
       "      <td>295922</td>\n",
       "      <td>...</td>\n",
       "      <td>198847</td>\n",
       "      <td>5967</td>\n",
       "      <td>236622</td>\n",
       "      <td>723764</td>\n",
       "      <td>512148</td>\n",
       "      <td>5140</td>\n",
       "      <td>13392</td>\n",
       "      <td>16049</td>\n",
       "      <td>2988274</td>\n",
       "      <td>8683649</td>\n",
       "    </tr>\n",
       "    <tr>\n",
       "      <th>6</th>\n",
       "      <td>대구</td>\n",
       "      <td>3151904</td>\n",
       "      <td>826396</td>\n",
       "      <td>5470438</td>\n",
       "      <td>6296834</td>\n",
       "      <td>69142</td>\n",
       "      <td>5858</td>\n",
       "      <td>5862633</td>\n",
       "      <td>212626</td>\n",
       "      <td>1057342</td>\n",
       "      <td>...</td>\n",
       "      <td>516493</td>\n",
       "      <td>58446</td>\n",
       "      <td>180189</td>\n",
       "      <td>252662</td>\n",
       "      <td>1381273</td>\n",
       "      <td>68127</td>\n",
       "      <td>41814</td>\n",
       "      <td>33616</td>\n",
       "      <td>5937633</td>\n",
       "      <td>15386372</td>\n",
       "    </tr>\n",
       "    <tr>\n",
       "      <th>7</th>\n",
       "      <td>대전</td>\n",
       "      <td>1872890</td>\n",
       "      <td>954681</td>\n",
       "      <td>3955921</td>\n",
       "      <td>4910602</td>\n",
       "      <td>28643</td>\n",
       "      <td>3326</td>\n",
       "      <td>2608343</td>\n",
       "      <td>204171</td>\n",
       "      <td>41687</td>\n",
       "      <td>...</td>\n",
       "      <td>77970</td>\n",
       "      <td>2949</td>\n",
       "      <td>83609</td>\n",
       "      <td>474561</td>\n",
       "      <td>218191</td>\n",
       "      <td>5439</td>\n",
       "      <td>31657</td>\n",
       "      <td>2252</td>\n",
       "      <td>2640312</td>\n",
       "      <td>9423804</td>\n",
       "    </tr>\n",
       "    <tr>\n",
       "      <th>8</th>\n",
       "      <td>부산</td>\n",
       "      <td>4473510</td>\n",
       "      <td>1305876</td>\n",
       "      <td>7582169</td>\n",
       "      <td>8888045</td>\n",
       "      <td>107927</td>\n",
       "      <td>25289</td>\n",
       "      <td>7512588</td>\n",
       "      <td>532943</td>\n",
       "      <td>528513</td>\n",
       "      <td>...</td>\n",
       "      <td>904149</td>\n",
       "      <td>4913</td>\n",
       "      <td>107717</td>\n",
       "      <td>90644</td>\n",
       "      <td>1046529</td>\n",
       "      <td>231141</td>\n",
       "      <td>49733</td>\n",
       "      <td>13104</td>\n",
       "      <td>7645804</td>\n",
       "      <td>21007358</td>\n",
       "    </tr>\n",
       "    <tr>\n",
       "      <th>9</th>\n",
       "      <td>서울</td>\n",
       "      <td>13131172</td>\n",
       "      <td>3581534</td>\n",
       "      <td>27647345</td>\n",
       "      <td>31228879</td>\n",
       "      <td>15150</td>\n",
       "      <td>4064</td>\n",
       "      <td>1918893</td>\n",
       "      <td>227077</td>\n",
       "      <td>497699</td>\n",
       "      <td>...</td>\n",
       "      <td>163688</td>\n",
       "      <td>4395</td>\n",
       "      <td>11425</td>\n",
       "      <td>46225</td>\n",
       "      <td>20182</td>\n",
       "      <td>17656</td>\n",
       "      <td>132707</td>\n",
       "      <td>2875</td>\n",
       "      <td>1938107</td>\n",
       "      <td>46298158</td>\n",
       "    </tr>\n",
       "    <tr>\n",
       "      <th>10</th>\n",
       "      <td>세종</td>\n",
       "      <td>384903</td>\n",
       "      <td>299675</td>\n",
       "      <td>645424</td>\n",
       "      <td>945099</td>\n",
       "      <td>69469</td>\n",
       "      <td>16364</td>\n",
       "      <td>1502922</td>\n",
       "      <td>110211</td>\n",
       "      <td>70617</td>\n",
       "      <td>...</td>\n",
       "      <td>26185</td>\n",
       "      <td>14319</td>\n",
       "      <td>33539</td>\n",
       "      <td>170366</td>\n",
       "      <td>79009</td>\n",
       "      <td>0</td>\n",
       "      <td>5132</td>\n",
       "      <td>2603</td>\n",
       "      <td>1588755</td>\n",
       "      <td>2918758</td>\n",
       "    </tr>\n",
       "    <tr>\n",
       "      <th>11</th>\n",
       "      <td>울산</td>\n",
       "      <td>1487143</td>\n",
       "      <td>489865</td>\n",
       "      <td>3649386</td>\n",
       "      <td>4139251</td>\n",
       "      <td>80221</td>\n",
       "      <td>20103</td>\n",
       "      <td>25883132</td>\n",
       "      <td>187738</td>\n",
       "      <td>943299</td>\n",
       "      <td>...</td>\n",
       "      <td>169132</td>\n",
       "      <td>5053</td>\n",
       "      <td>381602</td>\n",
       "      <td>24165</td>\n",
       "      <td>2367150</td>\n",
       "      <td>1020610</td>\n",
       "      <td>4984</td>\n",
       "      <td>1626</td>\n",
       "      <td>25983456</td>\n",
       "      <td>31609850</td>\n",
       "    </tr>\n",
       "    <tr>\n",
       "      <th>12</th>\n",
       "      <td>인천</td>\n",
       "      <td>3856852</td>\n",
       "      <td>921748</td>\n",
       "      <td>7154416</td>\n",
       "      <td>8076164</td>\n",
       "      <td>142953</td>\n",
       "      <td>71529</td>\n",
       "      <td>12367816</td>\n",
       "      <td>641088</td>\n",
       "      <td>75895</td>\n",
       "      <td>...</td>\n",
       "      <td>942801</td>\n",
       "      <td>7853</td>\n",
       "      <td>178502</td>\n",
       "      <td>1124564</td>\n",
       "      <td>612898</td>\n",
       "      <td>54225</td>\n",
       "      <td>360778</td>\n",
       "      <td>32538</td>\n",
       "      <td>12582298</td>\n",
       "      <td>24515313</td>\n",
       "    </tr>\n",
       "    <tr>\n",
       "      <th>13</th>\n",
       "      <td>전남</td>\n",
       "      <td>2284124</td>\n",
       "      <td>964024</td>\n",
       "      <td>5690659</td>\n",
       "      <td>6654683</td>\n",
       "      <td>3096126</td>\n",
       "      <td>73217</td>\n",
       "      <td>21453926</td>\n",
       "      <td>511361</td>\n",
       "      <td>160506</td>\n",
       "      <td>...</td>\n",
       "      <td>66431</td>\n",
       "      <td>1061</td>\n",
       "      <td>149939</td>\n",
       "      <td>42399</td>\n",
       "      <td>72132</td>\n",
       "      <td>481592</td>\n",
       "      <td>14670</td>\n",
       "      <td>31932</td>\n",
       "      <td>24623269</td>\n",
       "      <td>33562076</td>\n",
       "    </tr>\n",
       "    <tr>\n",
       "      <th>14</th>\n",
       "      <td>전북</td>\n",
       "      <td>2326183</td>\n",
       "      <td>1096968</td>\n",
       "      <td>4910318</td>\n",
       "      <td>6007286</td>\n",
       "      <td>1415004</td>\n",
       "      <td>85300</td>\n",
       "      <td>12965875</td>\n",
       "      <td>1459217</td>\n",
       "      <td>731651</td>\n",
       "      <td>...</td>\n",
       "      <td>159699</td>\n",
       "      <td>7240</td>\n",
       "      <td>130692</td>\n",
       "      <td>420005</td>\n",
       "      <td>859741</td>\n",
       "      <td>70980</td>\n",
       "      <td>16175</td>\n",
       "      <td>99003</td>\n",
       "      <td>14466179</td>\n",
       "      <td>22799647</td>\n",
       "    </tr>\n",
       "    <tr>\n",
       "      <th>15</th>\n",
       "      <td>제주</td>\n",
       "      <td>782601</td>\n",
       "      <td>301727</td>\n",
       "      <td>2308732</td>\n",
       "      <td>2610459</td>\n",
       "      <td>1364930</td>\n",
       "      <td>14019</td>\n",
       "      <td>241537</td>\n",
       "      <td>155987</td>\n",
       "      <td>3497</td>\n",
       "      <td>...</td>\n",
       "      <td>1167</td>\n",
       "      <td>0</td>\n",
       "      <td>771</td>\n",
       "      <td>0</td>\n",
       "      <td>773</td>\n",
       "      <td>532</td>\n",
       "      <td>1743</td>\n",
       "      <td>743</td>\n",
       "      <td>1620486</td>\n",
       "      <td>5013545</td>\n",
       "    </tr>\n",
       "    <tr>\n",
       "      <th>16</th>\n",
       "      <td>충남</td>\n",
       "      <td>2691823</td>\n",
       "      <td>1089613</td>\n",
       "      <td>7164439</td>\n",
       "      <td>8254052</td>\n",
       "      <td>1928066</td>\n",
       "      <td>248313</td>\n",
       "      <td>37057955</td>\n",
       "      <td>1137035</td>\n",
       "      <td>269998</td>\n",
       "      <td>...</td>\n",
       "      <td>611925</td>\n",
       "      <td>12208</td>\n",
       "      <td>428906</td>\n",
       "      <td>10953811</td>\n",
       "      <td>2526658</td>\n",
       "      <td>33766</td>\n",
       "      <td>53804</td>\n",
       "      <td>19725</td>\n",
       "      <td>39234334</td>\n",
       "      <td>50180209</td>\n",
       "    </tr>\n",
       "    <tr>\n",
       "      <th>17</th>\n",
       "      <td>충북</td>\n",
       "      <td>2027281</td>\n",
       "      <td>1267140</td>\n",
       "      <td>4804638</td>\n",
       "      <td>6071778</td>\n",
       "      <td>721131</td>\n",
       "      <td>139856</td>\n",
       "      <td>15883448</td>\n",
       "      <td>1152073</td>\n",
       "      <td>333846</td>\n",
       "      <td>...</td>\n",
       "      <td>366871</td>\n",
       "      <td>23076</td>\n",
       "      <td>1125141</td>\n",
       "      <td>4103832</td>\n",
       "      <td>603349</td>\n",
       "      <td>82496</td>\n",
       "      <td>513501</td>\n",
       "      <td>46038</td>\n",
       "      <td>16744435</td>\n",
       "      <td>24843494</td>\n",
       "    </tr>\n",
       "    <tr>\n",
       "      <th>18</th>\n",
       "      <td>합계</td>\n",
       "      <td>64576423</td>\n",
       "      <td>22204112</td>\n",
       "      <td>134748546</td>\n",
       "      <td>156952658</td>\n",
       "      <td>15373994</td>\n",
       "      <td>1347957</td>\n",
       "      <td>252942540</td>\n",
       "      <td>10735833</td>\n",
       "      <td>11247578</td>\n",
       "      <td>...</td>\n",
       "      <td>10504640</td>\n",
       "      <td>487262</td>\n",
       "      <td>5763846</td>\n",
       "      <td>47655808</td>\n",
       "      <td>17790147</td>\n",
       "      <td>4311878</td>\n",
       "      <td>3396006</td>\n",
       "      <td>559909</td>\n",
       "      <td>269664491</td>\n",
       "      <td>491193571</td>\n",
       "    </tr>\n",
       "  </tbody>\n",
       "</table>\n",
       "<p>19 rows × 28 columns</p>\n",
       "</div>"
      ],
      "text/plain": [
       "    구분       주거용       공공용       서비스업      업무용합계      농림어업       광업  \\\n",
       "0   강원   1940933   1400421    6203749    7604170    607139   398287   \n",
       "1   개성         0         0          0          0         0        0   \n",
       "2   경기  16587710   5533662   33434551   38968213   2371347   317263   \n",
       "3   경남   4260988   1427560    8667737   10095297   2141813    95989   \n",
       "4   경북   3302463   1578115    8487402   10065517   1747462   224568   \n",
       "5   광주   1954876    565527    3174973    3740500     74608     2898   \n",
       "6   대구   3151904    826396    5470438    6296834     69142     5858   \n",
       "7   대전   1872890    954681    3955921    4910602     28643     3326   \n",
       "8   부산   4473510   1305876    7582169    8888045    107927    25289   \n",
       "9   서울  13131172   3581534   27647345   31228879     15150     4064   \n",
       "10  세종    384903    299675     645424     945099     69469    16364   \n",
       "11  울산   1487143    489865    3649386    4139251     80221    20103   \n",
       "12  인천   3856852    921748    7154416    8076164    142953    71529   \n",
       "13  전남   2284124    964024    5690659    6654683   3096126    73217   \n",
       "14  전북   2326183   1096968    4910318    6007286   1415004    85300   \n",
       "15  제주    782601    301727    2308732    2610459   1364930    14019   \n",
       "16  충남   2691823   1089613    7164439    8254052   1928066   248313   \n",
       "17  충북   2027281   1267140    4804638    6071778    721131   139856   \n",
       "18  합계  64576423  22204112  134748546  156952658  15373994  1347957   \n",
       "\n",
       "          제조업     식료품제조     섬유,의류    ...          기타기계    사무기기     전기기기  \\\n",
       "0     6002286    546621     13027    ...         35063    2019    38062   \n",
       "1           0         0         0    ...             0       0        0   \n",
       "2    56603327   2544420   2109963    ...       3613798  317244  1040171   \n",
       "3    18053778    932743    346974    ...       1902913    8070   924235   \n",
       "4    30115601    566071   3780171    ...        782570   14468   750786   \n",
       "5     2910768    161072    295922    ...        198847    5967   236622   \n",
       "6     5862633    212626   1057342    ...        516493   58446   180189   \n",
       "7     2608343    204171     41687    ...         77970    2949    83609   \n",
       "8     7512588    532943    528513    ...        904149    4913   107717   \n",
       "9     1918893    227077    497699    ...        163688    4395    11425   \n",
       "10    1502922    110211     70617    ...         26185   14319    33539   \n",
       "11   25883132    187738    943299    ...        169132    5053   381602   \n",
       "12   12367816    641088     75895    ...        942801    7853   178502   \n",
       "13   21453926    511361    160506    ...         66431    1061   149939   \n",
       "14   12965875   1459217    731651    ...        159699    7240   130692   \n",
       "15     241537    155987      3497    ...          1167       0      771   \n",
       "16   37057955   1137035    269998    ...        611925   12208   428906   \n",
       "17   15883448   1152073    333846    ...        366871   23076  1125141   \n",
       "18  252942540  10735833  11247578    ...      10504640  487262  5763846   \n",
       "\n",
       "       영상,음향       자동차     기타운송    가구및기타    재생재료      산업용합계         합계  \n",
       "0      43986    113448   108629    12872    3418    7007712   16552816  \n",
       "1          0         0        0        0       0          0          0  \n",
       "2   24519644   2977165    67594  1833112  133041   59291937  114847859  \n",
       "3     534196   2156059  2048646   262523   47662   20291580   34647864  \n",
       "4    4174971   2356890   123935    60280   77104   32087631   45455611  \n",
       "5     723764    512148     5140    13392   16049    2988274    8683649  \n",
       "6     252662   1381273    68127    41814   33616    5937633   15386372  \n",
       "7     474561    218191     5439    31657    2252    2640312    9423804  \n",
       "8      90644   1046529   231141    49733   13104    7645804   21007358  \n",
       "9      46225     20182    17656   132707    2875    1938107   46298158  \n",
       "10    170366     79009        0     5132    2603    1588755    2918758  \n",
       "11     24165   2367150  1020610     4984    1626   25983456   31609850  \n",
       "12   1124564    612898    54225   360778   32538   12582298   24515313  \n",
       "13     42399     72132   481592    14670   31932   24623269   33562076  \n",
       "14    420005    859741    70980    16175   99003   14466179   22799647  \n",
       "15         0       773      532     1743     743    1620486    5013545  \n",
       "16  10953811   2526658    33766    53804   19725   39234334   50180209  \n",
       "17   4103832    603349    82496   513501   46038   16744435   24843494  \n",
       "18  47655808  17790147  4311878  3396006  559909  269664491  491193571  \n",
       "\n",
       "[19 rows x 28 columns]"
      ]
     },
     "execution_count": 20,
     "metadata": {},
     "output_type": "execute_result"
    }
   ],
   "source": [
    "power"
   ]
  },
  {
   "cell_type": "code",
   "execution_count": 21,
   "metadata": {},
   "outputs": [
    {
     "data": {
      "text/plain": [
       "Index(['구분', '주거용', '공공용', '서비스업', '업무용합계', '농림어업', '광업', '제조업', '식료품제조',\n",
       "       '섬유,의류', '목재,나무', '펄프,종이', '출판,인쇄', '석유,화확', '의료,광학', '요업', '1차금속',\n",
       "       '조립금속', '기타기계', '사무기기', '전기기기', '영상,음향', '자동차', '기타운송', '가구및기타', '재생재료',\n",
       "       '산업용합계', '합계'],\n",
       "      dtype='object')"
      ]
     },
     "execution_count": 21,
     "metadata": {},
     "output_type": "execute_result"
    }
   ],
   "source": [
    "power.columns"
   ]
  },
  {
   "cell_type": "code",
   "execution_count": 22,
   "metadata": {},
   "outputs": [
    {
     "data": {
      "text/plain": [
       "pandas.core.frame.DataFrame"
      ]
     },
     "execution_count": 22,
     "metadata": {},
     "output_type": "execute_result"
    }
   ],
   "source": [
    "type(power)"
   ]
  },
  {
   "cell_type": "markdown",
   "metadata": {},
   "source": [
    "# power"
   ]
  },
  {
   "cell_type": "code",
   "execution_count": 23,
   "metadata": {},
   "outputs": [
    {
     "data": {
      "text/plain": [
       "(19, 28)"
      ]
     },
     "execution_count": 23,
     "metadata": {},
     "output_type": "execute_result"
    }
   ],
   "source": [
    "power.shape # 데이터의 행과 열 개수"
   ]
  },
  {
   "cell_type": "code",
   "execution_count": 24,
   "metadata": {},
   "outputs": [
    {
     "data": {
      "text/html": [
       "<div>\n",
       "<style scoped>\n",
       "    .dataframe tbody tr th:only-of-type {\n",
       "        vertical-align: middle;\n",
       "    }\n",
       "\n",
       "    .dataframe tbody tr th {\n",
       "        vertical-align: top;\n",
       "    }\n",
       "\n",
       "    .dataframe thead th {\n",
       "        text-align: right;\n",
       "    }\n",
       "</style>\n",
       "<table border=\"1\" class=\"dataframe\">\n",
       "  <thead>\n",
       "    <tr style=\"text-align: right;\">\n",
       "      <th></th>\n",
       "      <th>구분</th>\n",
       "      <th>주거용</th>\n",
       "      <th>공공용</th>\n",
       "      <th>서비스업</th>\n",
       "      <th>업무용합계</th>\n",
       "      <th>농림어업</th>\n",
       "      <th>광업</th>\n",
       "      <th>제조업</th>\n",
       "      <th>식료품제조</th>\n",
       "      <th>섬유,의류</th>\n",
       "      <th>...</th>\n",
       "      <th>기타기계</th>\n",
       "      <th>사무기기</th>\n",
       "      <th>전기기기</th>\n",
       "      <th>영상,음향</th>\n",
       "      <th>자동차</th>\n",
       "      <th>기타운송</th>\n",
       "      <th>가구및기타</th>\n",
       "      <th>재생재료</th>\n",
       "      <th>산업용합계</th>\n",
       "      <th>합계</th>\n",
       "    </tr>\n",
       "  </thead>\n",
       "  <tbody>\n",
       "    <tr>\n",
       "      <th>0</th>\n",
       "      <td>강원</td>\n",
       "      <td>1940933</td>\n",
       "      <td>1400421</td>\n",
       "      <td>6203749</td>\n",
       "      <td>7604170</td>\n",
       "      <td>607139</td>\n",
       "      <td>398287</td>\n",
       "      <td>6002286</td>\n",
       "      <td>546621</td>\n",
       "      <td>13027</td>\n",
       "      <td>...</td>\n",
       "      <td>35063</td>\n",
       "      <td>2019</td>\n",
       "      <td>38062</td>\n",
       "      <td>43986</td>\n",
       "      <td>113448</td>\n",
       "      <td>108629</td>\n",
       "      <td>12872</td>\n",
       "      <td>3418</td>\n",
       "      <td>7007712</td>\n",
       "      <td>16552816</td>\n",
       "    </tr>\n",
       "    <tr>\n",
       "      <th>1</th>\n",
       "      <td>개성</td>\n",
       "      <td>0</td>\n",
       "      <td>0</td>\n",
       "      <td>0</td>\n",
       "      <td>0</td>\n",
       "      <td>0</td>\n",
       "      <td>0</td>\n",
       "      <td>0</td>\n",
       "      <td>0</td>\n",
       "      <td>0</td>\n",
       "      <td>...</td>\n",
       "      <td>0</td>\n",
       "      <td>0</td>\n",
       "      <td>0</td>\n",
       "      <td>0</td>\n",
       "      <td>0</td>\n",
       "      <td>0</td>\n",
       "      <td>0</td>\n",
       "      <td>0</td>\n",
       "      <td>0</td>\n",
       "      <td>0</td>\n",
       "    </tr>\n",
       "    <tr>\n",
       "      <th>2</th>\n",
       "      <td>경기</td>\n",
       "      <td>16587710</td>\n",
       "      <td>5533662</td>\n",
       "      <td>33434551</td>\n",
       "      <td>38968213</td>\n",
       "      <td>2371347</td>\n",
       "      <td>317263</td>\n",
       "      <td>56603327</td>\n",
       "      <td>2544420</td>\n",
       "      <td>2109963</td>\n",
       "      <td>...</td>\n",
       "      <td>3613798</td>\n",
       "      <td>317244</td>\n",
       "      <td>1040171</td>\n",
       "      <td>24519644</td>\n",
       "      <td>2977165</td>\n",
       "      <td>67594</td>\n",
       "      <td>1833112</td>\n",
       "      <td>133041</td>\n",
       "      <td>59291937</td>\n",
       "      <td>114847859</td>\n",
       "    </tr>\n",
       "    <tr>\n",
       "      <th>3</th>\n",
       "      <td>경남</td>\n",
       "      <td>4260988</td>\n",
       "      <td>1427560</td>\n",
       "      <td>8667737</td>\n",
       "      <td>10095297</td>\n",
       "      <td>2141813</td>\n",
       "      <td>95989</td>\n",
       "      <td>18053778</td>\n",
       "      <td>932743</td>\n",
       "      <td>346974</td>\n",
       "      <td>...</td>\n",
       "      <td>1902913</td>\n",
       "      <td>8070</td>\n",
       "      <td>924235</td>\n",
       "      <td>534196</td>\n",
       "      <td>2156059</td>\n",
       "      <td>2048646</td>\n",
       "      <td>262523</td>\n",
       "      <td>47662</td>\n",
       "      <td>20291580</td>\n",
       "      <td>34647864</td>\n",
       "    </tr>\n",
       "    <tr>\n",
       "      <th>4</th>\n",
       "      <td>경북</td>\n",
       "      <td>3302463</td>\n",
       "      <td>1578115</td>\n",
       "      <td>8487402</td>\n",
       "      <td>10065517</td>\n",
       "      <td>1747462</td>\n",
       "      <td>224568</td>\n",
       "      <td>30115601</td>\n",
       "      <td>566071</td>\n",
       "      <td>3780171</td>\n",
       "      <td>...</td>\n",
       "      <td>782570</td>\n",
       "      <td>14468</td>\n",
       "      <td>750786</td>\n",
       "      <td>4174971</td>\n",
       "      <td>2356890</td>\n",
       "      <td>123935</td>\n",
       "      <td>60280</td>\n",
       "      <td>77104</td>\n",
       "      <td>32087631</td>\n",
       "      <td>45455611</td>\n",
       "    </tr>\n",
       "  </tbody>\n",
       "</table>\n",
       "<p>5 rows × 28 columns</p>\n",
       "</div>"
      ],
      "text/plain": [
       "   구분       주거용      공공용      서비스업     업무용합계     농림어업      광업       제조업  \\\n",
       "0  강원   1940933  1400421   6203749   7604170   607139  398287   6002286   \n",
       "1  개성         0        0         0         0        0       0         0   \n",
       "2  경기  16587710  5533662  33434551  38968213  2371347  317263  56603327   \n",
       "3  경남   4260988  1427560   8667737  10095297  2141813   95989  18053778   \n",
       "4  경북   3302463  1578115   8487402  10065517  1747462  224568  30115601   \n",
       "\n",
       "     식료품제조    섬유,의류    ...         기타기계    사무기기     전기기기     영상,음향      자동차  \\\n",
       "0   546621    13027    ...        35063    2019    38062     43986   113448   \n",
       "1        0        0    ...            0       0        0         0        0   \n",
       "2  2544420  2109963    ...      3613798  317244  1040171  24519644  2977165   \n",
       "3   932743   346974    ...      1902913    8070   924235    534196  2156059   \n",
       "4   566071  3780171    ...       782570   14468   750786   4174971  2356890   \n",
       "\n",
       "      기타운송    가구및기타    재생재료     산업용합계         합계  \n",
       "0   108629    12872    3418   7007712   16552816  \n",
       "1        0        0       0         0          0  \n",
       "2    67594  1833112  133041  59291937  114847859  \n",
       "3  2048646   262523   47662  20291580   34647864  \n",
       "4   123935    60280   77104  32087631   45455611  \n",
       "\n",
       "[5 rows x 28 columns]"
      ]
     },
     "execution_count": 24,
     "metadata": {},
     "output_type": "execute_result"
    }
   ],
   "source": [
    "power.head() # 통상적으로 5의 행을 보여줌"
   ]
  },
  {
   "cell_type": "code",
   "execution_count": 25,
   "metadata": {},
   "outputs": [
    {
     "data": {
      "text/html": [
       "<div>\n",
       "<style scoped>\n",
       "    .dataframe tbody tr th:only-of-type {\n",
       "        vertical-align: middle;\n",
       "    }\n",
       "\n",
       "    .dataframe tbody tr th {\n",
       "        vertical-align: top;\n",
       "    }\n",
       "\n",
       "    .dataframe thead th {\n",
       "        text-align: right;\n",
       "    }\n",
       "</style>\n",
       "<table border=\"1\" class=\"dataframe\">\n",
       "  <thead>\n",
       "    <tr style=\"text-align: right;\">\n",
       "      <th></th>\n",
       "      <th>구분</th>\n",
       "      <th>주거용</th>\n",
       "      <th>공공용</th>\n",
       "      <th>서비스업</th>\n",
       "      <th>업무용합계</th>\n",
       "      <th>농림어업</th>\n",
       "      <th>광업</th>\n",
       "      <th>제조업</th>\n",
       "      <th>식료품제조</th>\n",
       "      <th>섬유,의류</th>\n",
       "      <th>...</th>\n",
       "      <th>기타기계</th>\n",
       "      <th>사무기기</th>\n",
       "      <th>전기기기</th>\n",
       "      <th>영상,음향</th>\n",
       "      <th>자동차</th>\n",
       "      <th>기타운송</th>\n",
       "      <th>가구및기타</th>\n",
       "      <th>재생재료</th>\n",
       "      <th>산업용합계</th>\n",
       "      <th>합계</th>\n",
       "    </tr>\n",
       "  </thead>\n",
       "  <tbody>\n",
       "    <tr>\n",
       "      <th>0</th>\n",
       "      <td>강원</td>\n",
       "      <td>1940933</td>\n",
       "      <td>1400421</td>\n",
       "      <td>6203749</td>\n",
       "      <td>7604170</td>\n",
       "      <td>607139</td>\n",
       "      <td>398287</td>\n",
       "      <td>6002286</td>\n",
       "      <td>546621</td>\n",
       "      <td>13027</td>\n",
       "      <td>...</td>\n",
       "      <td>35063</td>\n",
       "      <td>2019</td>\n",
       "      <td>38062</td>\n",
       "      <td>43986</td>\n",
       "      <td>113448</td>\n",
       "      <td>108629</td>\n",
       "      <td>12872</td>\n",
       "      <td>3418</td>\n",
       "      <td>7007712</td>\n",
       "      <td>16552816</td>\n",
       "    </tr>\n",
       "    <tr>\n",
       "      <th>1</th>\n",
       "      <td>개성</td>\n",
       "      <td>0</td>\n",
       "      <td>0</td>\n",
       "      <td>0</td>\n",
       "      <td>0</td>\n",
       "      <td>0</td>\n",
       "      <td>0</td>\n",
       "      <td>0</td>\n",
       "      <td>0</td>\n",
       "      <td>0</td>\n",
       "      <td>...</td>\n",
       "      <td>0</td>\n",
       "      <td>0</td>\n",
       "      <td>0</td>\n",
       "      <td>0</td>\n",
       "      <td>0</td>\n",
       "      <td>0</td>\n",
       "      <td>0</td>\n",
       "      <td>0</td>\n",
       "      <td>0</td>\n",
       "      <td>0</td>\n",
       "    </tr>\n",
       "  </tbody>\n",
       "</table>\n",
       "<p>2 rows × 28 columns</p>\n",
       "</div>"
      ],
      "text/plain": [
       "   구분      주거용      공공용     서비스업    업무용합계    농림어업      광업      제조업   식료품제조  \\\n",
       "0  강원  1940933  1400421  6203749  7604170  607139  398287  6002286  546621   \n",
       "1  개성        0        0        0        0       0       0        0       0   \n",
       "\n",
       "   섬유,의류    ...      기타기계  사무기기   전기기기  영상,음향     자동차    기타운송  가구및기타  재생재료  \\\n",
       "0  13027    ...     35063  2019  38062  43986  113448  108629  12872  3418   \n",
       "1      0    ...         0     0      0      0       0       0      0     0   \n",
       "\n",
       "     산업용합계        합계  \n",
       "0  7007712  16552816  \n",
       "1        0         0  \n",
       "\n",
       "[2 rows x 28 columns]"
      ]
     },
     "execution_count": 25,
     "metadata": {},
     "output_type": "execute_result"
    }
   ],
   "source": [
    "power.head(2) # 2개의 행을 보여줌"
   ]
  },
  {
   "cell_type": "code",
   "execution_count": 26,
   "metadata": {},
   "outputs": [
    {
     "data": {
      "text/plain": [
       "Index(['구분', '주거용', '공공용', '서비스업', '업무용합계', '농림어업', '광업', '제조업', '식료품제조',\n",
       "       '섬유,의류', '목재,나무', '펄프,종이', '출판,인쇄', '석유,화확', '의료,광학', '요업', '1차금속',\n",
       "       '조립금속', '기타기계', '사무기기', '전기기기', '영상,음향', '자동차', '기타운송', '가구및기타', '재생재료',\n",
       "       '산업용합계', '합계'],\n",
       "      dtype='object')"
      ]
     },
     "execution_count": 26,
     "metadata": {},
     "output_type": "execute_result"
    }
   ],
   "source": [
    "power.columns # colunm의 이름들이 다 나옴"
   ]
  },
  {
   "cell_type": "markdown",
   "metadata": {},
   "source": [
    "# 그래프 그리기"
   ]
  },
  {
   "cell_type": "code",
   "execution_count": 27,
   "metadata": {},
   "outputs": [],
   "source": [
    "import numpy as np\n",
    "import matplotlib.pyplot as plt "
   ]
  },
  {
   "cell_type": "code",
   "execution_count": 28,
   "metadata": {},
   "outputs": [
    {
     "data": {
      "text/plain": [
       "[<matplotlib.lines.Line2D at 0xb78fa50>]"
      ]
     },
     "execution_count": 28,
     "metadata": {},
     "output_type": "execute_result"
    },
    {
     "data": {
      "image/png": "[encoded data removed]",
      "text/plain": [
       "<Figure size 432x288 with 1 Axes>"
      ]
     },
     "metadata": {
      "needs_background": "light"
     },
     "output_type": "display_data"
    }
   ],
   "source": [
    "plt.plot(np.arange(5),np.random.randn(5)) \n",
    "# x좌표는 0부터 5까지, y좌표는 평균이 0인 값을 랜덤하게 5개를 뽑아서 그래프를 그림 ctrl+enter 누르면 그래프가 계속 바뀜\n"
   ]
  },
  {
   "cell_type": "code",
   "execution_count": 29,
   "metadata": {},
   "outputs": [
    {
     "data": {
      "text/plain": [
       "[<matplotlib.lines.Line2D at 0xb7d8890>]"
      ]
     },
     "execution_count": 29,
     "metadata": {},
     "output_type": "execute_result"
    },
    {
     "data": {
      "image/png": "[encoded data removed]",
      "text/plain": [
       "<Figure size 432x288 with 1 Axes>"
      ]
     },
     "metadata": {
      "needs_background": "light"
     },
     "output_type": "display_data"
    }
   ],
   "source": [
    "# plot은 x,y좌표를 필요로 함 예를 들어서\n",
    "plt.plot([1,2,3,4,5],[9,8,7,8,9]) #이면 x좌표는 1,2,3,4,5이고 y값은 9,8,7,8,9인 그래프를 그림"
   ]
  },
  {
   "cell_type": "code",
   "execution_count": 30,
   "metadata": {},
   "outputs": [
    {
     "data": {
      "text/plain": [
       "<matplotlib.collections.PathCollection at 0xb73d650>"
      ]
     },
     "execution_count": 30,
     "metadata": {},
     "output_type": "execute_result"
    },
    {
     "data": {
      "image/png": "[encoded data removed]",
      "text/plain": [
       "<Figure size 432x288 with 1 Axes>"
      ]
     },
     "metadata": {
      "needs_background": "light"
     },
     "output_type": "display_data"
    }
   ],
   "source": [
    "plt.scatter([1,2,3,4,5],[9,8,7,8,9]) # scatter는 점도표(산점도)"
   ]
  },
  {
   "cell_type": "code",
   "execution_count": 31,
   "metadata": {},
   "outputs": [
    {
     "data": {
      "text/plain": [
       "<matplotlib.collections.PathCollection at 0xb718e50>"
      ]
     },
     "execution_count": 31,
     "metadata": {},
     "output_type": "execute_result"
    },
    {
     "data": {
      "image/png": "[encoded data removed]",
      "text/plain": [
       "<Figure size 432x288 with 1 Axes>"
      ]
     },
     "metadata": {
      "needs_background": "light"
     },
     "output_type": "display_data"
    }
   ],
   "source": [
    "plt.scatter(np.arange(100),np.random.randn(100)) "
   ]
  },
  {
   "cell_type": "code",
   "execution_count": 32,
   "metadata": {},
   "outputs": [
    {
     "data": {
      "text/plain": [
       "Text(0.5,0,'x축')"
      ]
     },
     "execution_count": 32,
     "metadata": {},
     "output_type": "execute_result"
    },
    {
     "data": {
      "image/png": "[encoded data removed]",
      "text/plain": [
       "<Figure size 432x288 with 1 Axes>"
      ]
     },
     "metadata": {
      "needs_background": "light"
     },
     "output_type": "display_data"
    }
   ],
   "source": [
    "plt.scatter([1,2,3,4,5],[9,8,7,8,9])\n",
    "plt.xlabel('x축') \n",
    "# '축'이라는 글자가 깨져서 나타남 <-matplot은 한글을 지원하지 않음 하지만 한글을 지원하게 하는 방법이 있음"
   ]
  },
  {
   "cell_type": "markdown",
   "metadata": {},
   "source": [
    "## matplot에서 한글을 지원받는 법"
   ]
  },
  {
   "cell_type": "code",
   "execution_count": 33,
   "metadata": {},
   "outputs": [],
   "source": [
    "from matplotlib import font_manager, rc\n",
    "path = \"c:\\windows\\Fonts\\malgun.ttf\"\n",
    "font_name=font_manager.FontProperties(fname=path).get_name()\n",
    "rc('font',family=font_name)\n",
    "# matplot에서 한글을 지원받는 법"
   ]
  },
  {
   "cell_type": "code",
   "execution_count": 34,
   "metadata": {},
   "outputs": [
    {
     "data": {
      "text/plain": [
       "Text(0.5,0,'x축')"
      ]
     },
     "execution_count": 34,
     "metadata": {},
     "output_type": "execute_result"
    },
    {
     "data": {
      "image/png": "[encoded data removed]",
      "text/plain": [
       "<Figure size 432x288 with 1 Axes>"
      ]
     },
     "metadata": {
      "needs_background": "light"
     },
     "output_type": "display_data"
    }
   ],
   "source": [
    "plt.scatter([1,2,3,4,5],[9,8,7,8,9])\n",
    "plt.xlabel('x축') "
   ]
  },
  {
   "cell_type": "markdown",
   "metadata": {},
   "source": [
    "## matplot에서 마이너스 값을 지원받는 법"
   ]
  },
  {
   "cell_type": "code",
   "execution_count": 35,
   "metadata": {},
   "outputs": [],
   "source": [
    "plt.rcParams['axes.unicode_minus']=False # matplot에서 마이너스 값을 지원받는 법"
   ]
  },
  {
   "cell_type": "code",
   "execution_count": 36,
   "metadata": {},
   "outputs": [
    {
     "data": {
      "text/plain": [
       "Text(0,0.5,'y-축')"
      ]
     },
     "execution_count": 36,
     "metadata": {},
     "output_type": "execute_result"
    },
    {
     "data": {
      "image/png": "[encoded data removed]",
      "text/plain": [
       "<Figure size 432x288 with 1 Axes>"
      ]
     },
     "metadata": {
      "needs_background": "light"
     },
     "output_type": "display_data"
    }
   ],
   "source": [
    "plt.scatter([-1,-2,3,4,5],[9,-8,7,8,9])\n",
    "plt.xlabel('x-축')\n",
    "plt.ylabel('y-축')"
   ]
  },
  {
   "cell_type": "markdown",
   "metadata": {},
   "source": [
    "# 본격적인 데이터 다루기"
   ]
  },
  {
   "cell_type": "code",
   "execution_count": 37,
   "metadata": {
    "scrolled": true
   },
   "outputs": [
    {
     "data": {
      "text/html": [
       "<div>\n",
       "<style scoped>\n",
       "    .dataframe tbody tr th:only-of-type {\n",
       "        vertical-align: middle;\n",
       "    }\n",
       "\n",
       "    .dataframe tbody tr th {\n",
       "        vertical-align: top;\n",
       "    }\n",
       "\n",
       "    .dataframe thead th {\n",
       "        text-align: right;\n",
       "    }\n",
       "</style>\n",
       "<table border=\"1\" class=\"dataframe\">\n",
       "  <thead>\n",
       "    <tr style=\"text-align: right;\">\n",
       "      <th></th>\n",
       "      <th>구분</th>\n",
       "      <th>주거용</th>\n",
       "      <th>공공용</th>\n",
       "      <th>서비스업</th>\n",
       "      <th>업무용합계</th>\n",
       "      <th>농림어업</th>\n",
       "      <th>광업</th>\n",
       "      <th>제조업</th>\n",
       "      <th>식료품제조</th>\n",
       "      <th>섬유,의류</th>\n",
       "      <th>...</th>\n",
       "      <th>기타기계</th>\n",
       "      <th>사무기기</th>\n",
       "      <th>전기기기</th>\n",
       "      <th>영상,음향</th>\n",
       "      <th>자동차</th>\n",
       "      <th>기타운송</th>\n",
       "      <th>가구및기타</th>\n",
       "      <th>재생재료</th>\n",
       "      <th>산업용합계</th>\n",
       "      <th>합계</th>\n",
       "    </tr>\n",
       "  </thead>\n",
       "  <tbody>\n",
       "    <tr>\n",
       "      <th>0</th>\n",
       "      <td>강원</td>\n",
       "      <td>1940933</td>\n",
       "      <td>1400421</td>\n",
       "      <td>6203749</td>\n",
       "      <td>7604170</td>\n",
       "      <td>607139</td>\n",
       "      <td>398287</td>\n",
       "      <td>6002286</td>\n",
       "      <td>546621</td>\n",
       "      <td>13027</td>\n",
       "      <td>...</td>\n",
       "      <td>35063</td>\n",
       "      <td>2019</td>\n",
       "      <td>38062</td>\n",
       "      <td>43986</td>\n",
       "      <td>113448</td>\n",
       "      <td>108629</td>\n",
       "      <td>12872</td>\n",
       "      <td>3418</td>\n",
       "      <td>7007712</td>\n",
       "      <td>16552816</td>\n",
       "    </tr>\n",
       "    <tr>\n",
       "      <th>1</th>\n",
       "      <td>개성</td>\n",
       "      <td>0</td>\n",
       "      <td>0</td>\n",
       "      <td>0</td>\n",
       "      <td>0</td>\n",
       "      <td>0</td>\n",
       "      <td>0</td>\n",
       "      <td>0</td>\n",
       "      <td>0</td>\n",
       "      <td>0</td>\n",
       "      <td>...</td>\n",
       "      <td>0</td>\n",
       "      <td>0</td>\n",
       "      <td>0</td>\n",
       "      <td>0</td>\n",
       "      <td>0</td>\n",
       "      <td>0</td>\n",
       "      <td>0</td>\n",
       "      <td>0</td>\n",
       "      <td>0</td>\n",
       "      <td>0</td>\n",
       "    </tr>\n",
       "    <tr>\n",
       "      <th>3</th>\n",
       "      <td>경남</td>\n",
       "      <td>4260988</td>\n",
       "      <td>1427560</td>\n",
       "      <td>8667737</td>\n",
       "      <td>10095297</td>\n",
       "      <td>2141813</td>\n",
       "      <td>95989</td>\n",
       "      <td>18053778</td>\n",
       "      <td>932743</td>\n",
       "      <td>346974</td>\n",
       "      <td>...</td>\n",
       "      <td>1902913</td>\n",
       "      <td>8070</td>\n",
       "      <td>924235</td>\n",
       "      <td>534196</td>\n",
       "      <td>2156059</td>\n",
       "      <td>2048646</td>\n",
       "      <td>262523</td>\n",
       "      <td>47662</td>\n",
       "      <td>20291580</td>\n",
       "      <td>34647864</td>\n",
       "    </tr>\n",
       "    <tr>\n",
       "      <th>4</th>\n",
       "      <td>경북</td>\n",
       "      <td>3302463</td>\n",
       "      <td>1578115</td>\n",
       "      <td>8487402</td>\n",
       "      <td>10065517</td>\n",
       "      <td>1747462</td>\n",
       "      <td>224568</td>\n",
       "      <td>30115601</td>\n",
       "      <td>566071</td>\n",
       "      <td>3780171</td>\n",
       "      <td>...</td>\n",
       "      <td>782570</td>\n",
       "      <td>14468</td>\n",
       "      <td>750786</td>\n",
       "      <td>4174971</td>\n",
       "      <td>2356890</td>\n",
       "      <td>123935</td>\n",
       "      <td>60280</td>\n",
       "      <td>77104</td>\n",
       "      <td>32087631</td>\n",
       "      <td>45455611</td>\n",
       "    </tr>\n",
       "    <tr>\n",
       "      <th>5</th>\n",
       "      <td>광주</td>\n",
       "      <td>1954876</td>\n",
       "      <td>565527</td>\n",
       "      <td>3174973</td>\n",
       "      <td>3740500</td>\n",
       "      <td>74608</td>\n",
       "      <td>2898</td>\n",
       "      <td>2910768</td>\n",
       "      <td>161072</td>\n",
       "      <td>295922</td>\n",
       "      <td>...</td>\n",
       "      <td>198847</td>\n",
       "      <td>5967</td>\n",
       "      <td>236622</td>\n",
       "      <td>723764</td>\n",
       "      <td>512148</td>\n",
       "      <td>5140</td>\n",
       "      <td>13392</td>\n",
       "      <td>16049</td>\n",
       "      <td>2988274</td>\n",
       "      <td>8683649</td>\n",
       "    </tr>\n",
       "    <tr>\n",
       "      <th>6</th>\n",
       "      <td>대구</td>\n",
       "      <td>3151904</td>\n",
       "      <td>826396</td>\n",
       "      <td>5470438</td>\n",
       "      <td>6296834</td>\n",
       "      <td>69142</td>\n",
       "      <td>5858</td>\n",
       "      <td>5862633</td>\n",
       "      <td>212626</td>\n",
       "      <td>1057342</td>\n",
       "      <td>...</td>\n",
       "      <td>516493</td>\n",
       "      <td>58446</td>\n",
       "      <td>180189</td>\n",
       "      <td>252662</td>\n",
       "      <td>1381273</td>\n",
       "      <td>68127</td>\n",
       "      <td>41814</td>\n",
       "      <td>33616</td>\n",
       "      <td>5937633</td>\n",
       "      <td>15386372</td>\n",
       "    </tr>\n",
       "    <tr>\n",
       "      <th>7</th>\n",
       "      <td>대전</td>\n",
       "      <td>1872890</td>\n",
       "      <td>954681</td>\n",
       "      <td>3955921</td>\n",
       "      <td>4910602</td>\n",
       "      <td>28643</td>\n",
       "      <td>3326</td>\n",
       "      <td>2608343</td>\n",
       "      <td>204171</td>\n",
       "      <td>41687</td>\n",
       "      <td>...</td>\n",
       "      <td>77970</td>\n",
       "      <td>2949</td>\n",
       "      <td>83609</td>\n",
       "      <td>474561</td>\n",
       "      <td>218191</td>\n",
       "      <td>5439</td>\n",
       "      <td>31657</td>\n",
       "      <td>2252</td>\n",
       "      <td>2640312</td>\n",
       "      <td>9423804</td>\n",
       "    </tr>\n",
       "    <tr>\n",
       "      <th>8</th>\n",
       "      <td>부산</td>\n",
       "      <td>4473510</td>\n",
       "      <td>1305876</td>\n",
       "      <td>7582169</td>\n",
       "      <td>8888045</td>\n",
       "      <td>107927</td>\n",
       "      <td>25289</td>\n",
       "      <td>7512588</td>\n",
       "      <td>532943</td>\n",
       "      <td>528513</td>\n",
       "      <td>...</td>\n",
       "      <td>904149</td>\n",
       "      <td>4913</td>\n",
       "      <td>107717</td>\n",
       "      <td>90644</td>\n",
       "      <td>1046529</td>\n",
       "      <td>231141</td>\n",
       "      <td>49733</td>\n",
       "      <td>13104</td>\n",
       "      <td>7645804</td>\n",
       "      <td>21007358</td>\n",
       "    </tr>\n",
       "    <tr>\n",
       "      <th>9</th>\n",
       "      <td>서울</td>\n",
       "      <td>13131172</td>\n",
       "      <td>3581534</td>\n",
       "      <td>27647345</td>\n",
       "      <td>31228879</td>\n",
       "      <td>15150</td>\n",
       "      <td>4064</td>\n",
       "      <td>1918893</td>\n",
       "      <td>227077</td>\n",
       "      <td>497699</td>\n",
       "      <td>...</td>\n",
       "      <td>163688</td>\n",
       "      <td>4395</td>\n",
       "      <td>11425</td>\n",
       "      <td>46225</td>\n",
       "      <td>20182</td>\n",
       "      <td>17656</td>\n",
       "      <td>132707</td>\n",
       "      <td>2875</td>\n",
       "      <td>1938107</td>\n",
       "      <td>46298158</td>\n",
       "    </tr>\n",
       "    <tr>\n",
       "      <th>10</th>\n",
       "      <td>세종</td>\n",
       "      <td>384903</td>\n",
       "      <td>299675</td>\n",
       "      <td>645424</td>\n",
       "      <td>945099</td>\n",
       "      <td>69469</td>\n",
       "      <td>16364</td>\n",
       "      <td>1502922</td>\n",
       "      <td>110211</td>\n",
       "      <td>70617</td>\n",
       "      <td>...</td>\n",
       "      <td>26185</td>\n",
       "      <td>14319</td>\n",
       "      <td>33539</td>\n",
       "      <td>170366</td>\n",
       "      <td>79009</td>\n",
       "      <td>0</td>\n",
       "      <td>5132</td>\n",
       "      <td>2603</td>\n",
       "      <td>1588755</td>\n",
       "      <td>2918758</td>\n",
       "    </tr>\n",
       "    <tr>\n",
       "      <th>11</th>\n",
       "      <td>울산</td>\n",
       "      <td>1487143</td>\n",
       "      <td>489865</td>\n",
       "      <td>3649386</td>\n",
       "      <td>4139251</td>\n",
       "      <td>80221</td>\n",
       "      <td>20103</td>\n",
       "      <td>25883132</td>\n",
       "      <td>187738</td>\n",
       "      <td>943299</td>\n",
       "      <td>...</td>\n",
       "      <td>169132</td>\n",
       "      <td>5053</td>\n",
       "      <td>381602</td>\n",
       "      <td>24165</td>\n",
       "      <td>2367150</td>\n",
       "      <td>1020610</td>\n",
       "      <td>4984</td>\n",
       "      <td>1626</td>\n",
       "      <td>25983456</td>\n",
       "      <td>31609850</td>\n",
       "    </tr>\n",
       "    <tr>\n",
       "      <th>12</th>\n",
       "      <td>인천</td>\n",
       "      <td>3856852</td>\n",
       "      <td>921748</td>\n",
       "      <td>7154416</td>\n",
       "      <td>8076164</td>\n",
       "      <td>142953</td>\n",
       "      <td>71529</td>\n",
       "      <td>12367816</td>\n",
       "      <td>641088</td>\n",
       "      <td>75895</td>\n",
       "      <td>...</td>\n",
       "      <td>942801</td>\n",
       "      <td>7853</td>\n",
       "      <td>178502</td>\n",
       "      <td>1124564</td>\n",
       "      <td>612898</td>\n",
       "      <td>54225</td>\n",
       "      <td>360778</td>\n",
       "      <td>32538</td>\n",
       "      <td>12582298</td>\n",
       "      <td>24515313</td>\n",
       "    </tr>\n",
       "    <tr>\n",
       "      <th>13</th>\n",
       "      <td>전남</td>\n",
       "      <td>2284124</td>\n",
       "      <td>964024</td>\n",
       "      <td>5690659</td>\n",
       "      <td>6654683</td>\n",
       "      <td>3096126</td>\n",
       "      <td>73217</td>\n",
       "      <td>21453926</td>\n",
       "      <td>511361</td>\n",
       "      <td>160506</td>\n",
       "      <td>...</td>\n",
       "      <td>66431</td>\n",
       "      <td>1061</td>\n",
       "      <td>149939</td>\n",
       "      <td>42399</td>\n",
       "      <td>72132</td>\n",
       "      <td>481592</td>\n",
       "      <td>14670</td>\n",
       "      <td>31932</td>\n",
       "      <td>24623269</td>\n",
       "      <td>33562076</td>\n",
       "    </tr>\n",
       "    <tr>\n",
       "      <th>14</th>\n",
       "      <td>전북</td>\n",
       "      <td>2326183</td>\n",
       "      <td>1096968</td>\n",
       "      <td>4910318</td>\n",
       "      <td>6007286</td>\n",
       "      <td>1415004</td>\n",
       "      <td>85300</td>\n",
       "      <td>12965875</td>\n",
       "      <td>1459217</td>\n",
       "      <td>731651</td>\n",
       "      <td>...</td>\n",
       "      <td>159699</td>\n",
       "      <td>7240</td>\n",
       "      <td>130692</td>\n",
       "      <td>420005</td>\n",
       "      <td>859741</td>\n",
       "      <td>70980</td>\n",
       "      <td>16175</td>\n",
       "      <td>99003</td>\n",
       "      <td>14466179</td>\n",
       "      <td>22799647</td>\n",
       "    </tr>\n",
       "    <tr>\n",
       "      <th>15</th>\n",
       "      <td>제주</td>\n",
       "      <td>782601</td>\n",
       "      <td>301727</td>\n",
       "      <td>2308732</td>\n",
       "      <td>2610459</td>\n",
       "      <td>1364930</td>\n",
       "      <td>14019</td>\n",
       "      <td>241537</td>\n",
       "      <td>155987</td>\n",
       "      <td>3497</td>\n",
       "      <td>...</td>\n",
       "      <td>1167</td>\n",
       "      <td>0</td>\n",
       "      <td>771</td>\n",
       "      <td>0</td>\n",
       "      <td>773</td>\n",
       "      <td>532</td>\n",
       "      <td>1743</td>\n",
       "      <td>743</td>\n",
       "      <td>1620486</td>\n",
       "      <td>5013545</td>\n",
       "    </tr>\n",
       "    <tr>\n",
       "      <th>16</th>\n",
       "      <td>충남</td>\n",
       "      <td>2691823</td>\n",
       "      <td>1089613</td>\n",
       "      <td>7164439</td>\n",
       "      <td>8254052</td>\n",
       "      <td>1928066</td>\n",
       "      <td>248313</td>\n",
       "      <td>37057955</td>\n",
       "      <td>1137035</td>\n",
       "      <td>269998</td>\n",
       "      <td>...</td>\n",
       "      <td>611925</td>\n",
       "      <td>12208</td>\n",
       "      <td>428906</td>\n",
       "      <td>10953811</td>\n",
       "      <td>2526658</td>\n",
       "      <td>33766</td>\n",
       "      <td>53804</td>\n",
       "      <td>19725</td>\n",
       "      <td>39234334</td>\n",
       "      <td>50180209</td>\n",
       "    </tr>\n",
       "    <tr>\n",
       "      <th>17</th>\n",
       "      <td>충북</td>\n",
       "      <td>2027281</td>\n",
       "      <td>1267140</td>\n",
       "      <td>4804638</td>\n",
       "      <td>6071778</td>\n",
       "      <td>721131</td>\n",
       "      <td>139856</td>\n",
       "      <td>15883448</td>\n",
       "      <td>1152073</td>\n",
       "      <td>333846</td>\n",
       "      <td>...</td>\n",
       "      <td>366871</td>\n",
       "      <td>23076</td>\n",
       "      <td>1125141</td>\n",
       "      <td>4103832</td>\n",
       "      <td>603349</td>\n",
       "      <td>82496</td>\n",
       "      <td>513501</td>\n",
       "      <td>46038</td>\n",
       "      <td>16744435</td>\n",
       "      <td>24843494</td>\n",
       "    </tr>\n",
       "    <tr>\n",
       "      <th>18</th>\n",
       "      <td>합계</td>\n",
       "      <td>64576423</td>\n",
       "      <td>22204112</td>\n",
       "      <td>134748546</td>\n",
       "      <td>156952658</td>\n",
       "      <td>15373994</td>\n",
       "      <td>1347957</td>\n",
       "      <td>252942540</td>\n",
       "      <td>10735833</td>\n",
       "      <td>11247578</td>\n",
       "      <td>...</td>\n",
       "      <td>10504640</td>\n",
       "      <td>487262</td>\n",
       "      <td>5763846</td>\n",
       "      <td>47655808</td>\n",
       "      <td>17790147</td>\n",
       "      <td>4311878</td>\n",
       "      <td>3396006</td>\n",
       "      <td>559909</td>\n",
       "      <td>269664491</td>\n",
       "      <td>491193571</td>\n",
       "    </tr>\n",
       "  </tbody>\n",
       "</table>\n",
       "<p>18 rows × 28 columns</p>\n",
       "</div>"
      ],
      "text/plain": [
       "    구분       주거용       공공용       서비스업      업무용합계      농림어업       광업  \\\n",
       "0   강원   1940933   1400421    6203749    7604170    607139   398287   \n",
       "1   개성         0         0          0          0         0        0   \n",
       "3   경남   4260988   1427560    8667737   10095297   2141813    95989   \n",
       "4   경북   3302463   1578115    8487402   10065517   1747462   224568   \n",
       "5   광주   1954876    565527    3174973    3740500     74608     2898   \n",
       "6   대구   3151904    826396    5470438    6296834     69142     5858   \n",
       "7   대전   1872890    954681    3955921    4910602     28643     3326   \n",
       "8   부산   4473510   1305876    7582169    8888045    107927    25289   \n",
       "9   서울  13131172   3581534   27647345   31228879     15150     4064   \n",
       "10  세종    384903    299675     645424     945099     69469    16364   \n",
       "11  울산   1487143    489865    3649386    4139251     80221    20103   \n",
       "12  인천   3856852    921748    7154416    8076164    142953    71529   \n",
       "13  전남   2284124    964024    5690659    6654683   3096126    73217   \n",
       "14  전북   2326183   1096968    4910318    6007286   1415004    85300   \n",
       "15  제주    782601    301727    2308732    2610459   1364930    14019   \n",
       "16  충남   2691823   1089613    7164439    8254052   1928066   248313   \n",
       "17  충북   2027281   1267140    4804638    6071778    721131   139856   \n",
       "18  합계  64576423  22204112  134748546  156952658  15373994  1347957   \n",
       "\n",
       "          제조업     식료품제조     섬유,의류    ...          기타기계    사무기기     전기기기  \\\n",
       "0     6002286    546621     13027    ...         35063    2019    38062   \n",
       "1           0         0         0    ...             0       0        0   \n",
       "3    18053778    932743    346974    ...       1902913    8070   924235   \n",
       "4    30115601    566071   3780171    ...        782570   14468   750786   \n",
       "5     2910768    161072    295922    ...        198847    5967   236622   \n",
       "6     5862633    212626   1057342    ...        516493   58446   180189   \n",
       "7     2608343    204171     41687    ...         77970    2949    83609   \n",
       "8     7512588    532943    528513    ...        904149    4913   107717   \n",
       "9     1918893    227077    497699    ...        163688    4395    11425   \n",
       "10    1502922    110211     70617    ...         26185   14319    33539   \n",
       "11   25883132    187738    943299    ...        169132    5053   381602   \n",
       "12   12367816    641088     75895    ...        942801    7853   178502   \n",
       "13   21453926    511361    160506    ...         66431    1061   149939   \n",
       "14   12965875   1459217    731651    ...        159699    7240   130692   \n",
       "15     241537    155987      3497    ...          1167       0      771   \n",
       "16   37057955   1137035    269998    ...        611925   12208   428906   \n",
       "17   15883448   1152073    333846    ...        366871   23076  1125141   \n",
       "18  252942540  10735833  11247578    ...      10504640  487262  5763846   \n",
       "\n",
       "       영상,음향       자동차     기타운송    가구및기타    재생재료      산업용합계         합계  \n",
       "0      43986    113448   108629    12872    3418    7007712   16552816  \n",
       "1          0         0        0        0       0          0          0  \n",
       "3     534196   2156059  2048646   262523   47662   20291580   34647864  \n",
       "4    4174971   2356890   123935    60280   77104   32087631   45455611  \n",
       "5     723764    512148     5140    13392   16049    2988274    8683649  \n",
       "6     252662   1381273    68127    41814   33616    5937633   15386372  \n",
       "7     474561    218191     5439    31657    2252    2640312    9423804  \n",
       "8      90644   1046529   231141    49733   13104    7645804   21007358  \n",
       "9      46225     20182    17656   132707    2875    1938107   46298158  \n",
       "10    170366     79009        0     5132    2603    1588755    2918758  \n",
       "11     24165   2367150  1020610     4984    1626   25983456   31609850  \n",
       "12   1124564    612898    54225   360778   32538   12582298   24515313  \n",
       "13     42399     72132   481592    14670   31932   24623269   33562076  \n",
       "14    420005    859741    70980    16175   99003   14466179   22799647  \n",
       "15         0       773      532     1743     743    1620486    5013545  \n",
       "16  10953811   2526658    33766    53804   19725   39234334   50180209  \n",
       "17   4103832    603349    82496   513501   46038   16744435   24843494  \n",
       "18  47655808  17790147  4311878  3396006  559909  269664491  491193571  \n",
       "\n",
       "[18 rows x 28 columns]"
      ]
     },
     "execution_count": 37,
     "metadata": {},
     "output_type": "execute_result"
    }
   ],
   "source": [
    "power.drop(2) # 데이터에서 경기의 값을 빼고 보기"
   ]
  },
  {
   "cell_type": "code",
   "execution_count": 38,
   "metadata": {},
   "outputs": [
    {
     "data": {
      "text/html": [
       "<div>\n",
       "<style scoped>\n",
       "    .dataframe tbody tr th:only-of-type {\n",
       "        vertical-align: middle;\n",
       "    }\n",
       "\n",
       "    .dataframe tbody tr th {\n",
       "        vertical-align: top;\n",
       "    }\n",
       "\n",
       "    .dataframe thead th {\n",
       "        text-align: right;\n",
       "    }\n",
       "</style>\n",
       "<table border=\"1\" class=\"dataframe\">\n",
       "  <thead>\n",
       "    <tr style=\"text-align: right;\">\n",
       "      <th></th>\n",
       "      <th>구분</th>\n",
       "      <th>주거용</th>\n",
       "      <th>공공용</th>\n",
       "      <th>서비스업</th>\n",
       "      <th>업무용합계</th>\n",
       "      <th>농림어업</th>\n",
       "      <th>광업</th>\n",
       "      <th>제조업</th>\n",
       "      <th>식료품제조</th>\n",
       "      <th>섬유,의류</th>\n",
       "      <th>...</th>\n",
       "      <th>기타기계</th>\n",
       "      <th>사무기기</th>\n",
       "      <th>전기기기</th>\n",
       "      <th>영상,음향</th>\n",
       "      <th>자동차</th>\n",
       "      <th>기타운송</th>\n",
       "      <th>가구및기타</th>\n",
       "      <th>재생재료</th>\n",
       "      <th>산업용합계</th>\n",
       "      <th>합계</th>\n",
       "    </tr>\n",
       "  </thead>\n",
       "  <tbody>\n",
       "    <tr>\n",
       "      <th>0</th>\n",
       "      <td>강원</td>\n",
       "      <td>1940933</td>\n",
       "      <td>1400421</td>\n",
       "      <td>6203749</td>\n",
       "      <td>7604170</td>\n",
       "      <td>607139</td>\n",
       "      <td>398287</td>\n",
       "      <td>6002286</td>\n",
       "      <td>546621</td>\n",
       "      <td>13027</td>\n",
       "      <td>...</td>\n",
       "      <td>35063</td>\n",
       "      <td>2019</td>\n",
       "      <td>38062</td>\n",
       "      <td>43986</td>\n",
       "      <td>113448</td>\n",
       "      <td>108629</td>\n",
       "      <td>12872</td>\n",
       "      <td>3418</td>\n",
       "      <td>7007712</td>\n",
       "      <td>16552816</td>\n",
       "    </tr>\n",
       "    <tr>\n",
       "      <th>1</th>\n",
       "      <td>개성</td>\n",
       "      <td>0</td>\n",
       "      <td>0</td>\n",
       "      <td>0</td>\n",
       "      <td>0</td>\n",
       "      <td>0</td>\n",
       "      <td>0</td>\n",
       "      <td>0</td>\n",
       "      <td>0</td>\n",
       "      <td>0</td>\n",
       "      <td>...</td>\n",
       "      <td>0</td>\n",
       "      <td>0</td>\n",
       "      <td>0</td>\n",
       "      <td>0</td>\n",
       "      <td>0</td>\n",
       "      <td>0</td>\n",
       "      <td>0</td>\n",
       "      <td>0</td>\n",
       "      <td>0</td>\n",
       "      <td>0</td>\n",
       "    </tr>\n",
       "    <tr>\n",
       "      <th>2</th>\n",
       "      <td>경기</td>\n",
       "      <td>16587710</td>\n",
       "      <td>5533662</td>\n",
       "      <td>33434551</td>\n",
       "      <td>38968213</td>\n",
       "      <td>2371347</td>\n",
       "      <td>317263</td>\n",
       "      <td>56603327</td>\n",
       "      <td>2544420</td>\n",
       "      <td>2109963</td>\n",
       "      <td>...</td>\n",
       "      <td>3613798</td>\n",
       "      <td>317244</td>\n",
       "      <td>1040171</td>\n",
       "      <td>24519644</td>\n",
       "      <td>2977165</td>\n",
       "      <td>67594</td>\n",
       "      <td>1833112</td>\n",
       "      <td>133041</td>\n",
       "      <td>59291937</td>\n",
       "      <td>114847859</td>\n",
       "    </tr>\n",
       "    <tr>\n",
       "      <th>3</th>\n",
       "      <td>경남</td>\n",
       "      <td>4260988</td>\n",
       "      <td>1427560</td>\n",
       "      <td>8667737</td>\n",
       "      <td>10095297</td>\n",
       "      <td>2141813</td>\n",
       "      <td>95989</td>\n",
       "      <td>18053778</td>\n",
       "      <td>932743</td>\n",
       "      <td>346974</td>\n",
       "      <td>...</td>\n",
       "      <td>1902913</td>\n",
       "      <td>8070</td>\n",
       "      <td>924235</td>\n",
       "      <td>534196</td>\n",
       "      <td>2156059</td>\n",
       "      <td>2048646</td>\n",
       "      <td>262523</td>\n",
       "      <td>47662</td>\n",
       "      <td>20291580</td>\n",
       "      <td>34647864</td>\n",
       "    </tr>\n",
       "    <tr>\n",
       "      <th>4</th>\n",
       "      <td>경북</td>\n",
       "      <td>3302463</td>\n",
       "      <td>1578115</td>\n",
       "      <td>8487402</td>\n",
       "      <td>10065517</td>\n",
       "      <td>1747462</td>\n",
       "      <td>224568</td>\n",
       "      <td>30115601</td>\n",
       "      <td>566071</td>\n",
       "      <td>3780171</td>\n",
       "      <td>...</td>\n",
       "      <td>782570</td>\n",
       "      <td>14468</td>\n",
       "      <td>750786</td>\n",
       "      <td>4174971</td>\n",
       "      <td>2356890</td>\n",
       "      <td>123935</td>\n",
       "      <td>60280</td>\n",
       "      <td>77104</td>\n",
       "      <td>32087631</td>\n",
       "      <td>45455611</td>\n",
       "    </tr>\n",
       "    <tr>\n",
       "      <th>5</th>\n",
       "      <td>광주</td>\n",
       "      <td>1954876</td>\n",
       "      <td>565527</td>\n",
       "      <td>3174973</td>\n",
       "      <td>3740500</td>\n",
       "      <td>74608</td>\n",
       "      <td>2898</td>\n",
       "      <td>2910768</td>\n",
       "      <td>161072</td>\n",
       "      <td>295922</td>\n",
       "      <td>...</td>\n",
       "      <td>198847</td>\n",
       "      <td>5967</td>\n",
       "      <td>236622</td>\n",
       "      <td>723764</td>\n",
       "      <td>512148</td>\n",
       "      <td>5140</td>\n",
       "      <td>13392</td>\n",
       "      <td>16049</td>\n",
       "      <td>2988274</td>\n",
       "      <td>8683649</td>\n",
       "    </tr>\n",
       "    <tr>\n",
       "      <th>6</th>\n",
       "      <td>대구</td>\n",
       "      <td>3151904</td>\n",
       "      <td>826396</td>\n",
       "      <td>5470438</td>\n",
       "      <td>6296834</td>\n",
       "      <td>69142</td>\n",
       "      <td>5858</td>\n",
       "      <td>5862633</td>\n",
       "      <td>212626</td>\n",
       "      <td>1057342</td>\n",
       "      <td>...</td>\n",
       "      <td>516493</td>\n",
       "      <td>58446</td>\n",
       "      <td>180189</td>\n",
       "      <td>252662</td>\n",
       "      <td>1381273</td>\n",
       "      <td>68127</td>\n",
       "      <td>41814</td>\n",
       "      <td>33616</td>\n",
       "      <td>5937633</td>\n",
       "      <td>15386372</td>\n",
       "    </tr>\n",
       "    <tr>\n",
       "      <th>7</th>\n",
       "      <td>대전</td>\n",
       "      <td>1872890</td>\n",
       "      <td>954681</td>\n",
       "      <td>3955921</td>\n",
       "      <td>4910602</td>\n",
       "      <td>28643</td>\n",
       "      <td>3326</td>\n",
       "      <td>2608343</td>\n",
       "      <td>204171</td>\n",
       "      <td>41687</td>\n",
       "      <td>...</td>\n",
       "      <td>77970</td>\n",
       "      <td>2949</td>\n",
       "      <td>83609</td>\n",
       "      <td>474561</td>\n",
       "      <td>218191</td>\n",
       "      <td>5439</td>\n",
       "      <td>31657</td>\n",
       "      <td>2252</td>\n",
       "      <td>2640312</td>\n",
       "      <td>9423804</td>\n",
       "    </tr>\n",
       "    <tr>\n",
       "      <th>8</th>\n",
       "      <td>부산</td>\n",
       "      <td>4473510</td>\n",
       "      <td>1305876</td>\n",
       "      <td>7582169</td>\n",
       "      <td>8888045</td>\n",
       "      <td>107927</td>\n",
       "      <td>25289</td>\n",
       "      <td>7512588</td>\n",
       "      <td>532943</td>\n",
       "      <td>528513</td>\n",
       "      <td>...</td>\n",
       "      <td>904149</td>\n",
       "      <td>4913</td>\n",
       "      <td>107717</td>\n",
       "      <td>90644</td>\n",
       "      <td>1046529</td>\n",
       "      <td>231141</td>\n",
       "      <td>49733</td>\n",
       "      <td>13104</td>\n",
       "      <td>7645804</td>\n",
       "      <td>21007358</td>\n",
       "    </tr>\n",
       "    <tr>\n",
       "      <th>9</th>\n",
       "      <td>서울</td>\n",
       "      <td>13131172</td>\n",
       "      <td>3581534</td>\n",
       "      <td>27647345</td>\n",
       "      <td>31228879</td>\n",
       "      <td>15150</td>\n",
       "      <td>4064</td>\n",
       "      <td>1918893</td>\n",
       "      <td>227077</td>\n",
       "      <td>497699</td>\n",
       "      <td>...</td>\n",
       "      <td>163688</td>\n",
       "      <td>4395</td>\n",
       "      <td>11425</td>\n",
       "      <td>46225</td>\n",
       "      <td>20182</td>\n",
       "      <td>17656</td>\n",
       "      <td>132707</td>\n",
       "      <td>2875</td>\n",
       "      <td>1938107</td>\n",
       "      <td>46298158</td>\n",
       "    </tr>\n",
       "    <tr>\n",
       "      <th>10</th>\n",
       "      <td>세종</td>\n",
       "      <td>384903</td>\n",
       "      <td>299675</td>\n",
       "      <td>645424</td>\n",
       "      <td>945099</td>\n",
       "      <td>69469</td>\n",
       "      <td>16364</td>\n",
       "      <td>1502922</td>\n",
       "      <td>110211</td>\n",
       "      <td>70617</td>\n",
       "      <td>...</td>\n",
       "      <td>26185</td>\n",
       "      <td>14319</td>\n",
       "      <td>33539</td>\n",
       "      <td>170366</td>\n",
       "      <td>79009</td>\n",
       "      <td>0</td>\n",
       "      <td>5132</td>\n",
       "      <td>2603</td>\n",
       "      <td>1588755</td>\n",
       "      <td>2918758</td>\n",
       "    </tr>\n",
       "    <tr>\n",
       "      <th>11</th>\n",
       "      <td>울산</td>\n",
       "      <td>1487143</td>\n",
       "      <td>489865</td>\n",
       "      <td>3649386</td>\n",
       "      <td>4139251</td>\n",
       "      <td>80221</td>\n",
       "      <td>20103</td>\n",
       "      <td>25883132</td>\n",
       "      <td>187738</td>\n",
       "      <td>943299</td>\n",
       "      <td>...</td>\n",
       "      <td>169132</td>\n",
       "      <td>5053</td>\n",
       "      <td>381602</td>\n",
       "      <td>24165</td>\n",
       "      <td>2367150</td>\n",
       "      <td>1020610</td>\n",
       "      <td>4984</td>\n",
       "      <td>1626</td>\n",
       "      <td>25983456</td>\n",
       "      <td>31609850</td>\n",
       "    </tr>\n",
       "    <tr>\n",
       "      <th>12</th>\n",
       "      <td>인천</td>\n",
       "      <td>3856852</td>\n",
       "      <td>921748</td>\n",
       "      <td>7154416</td>\n",
       "      <td>8076164</td>\n",
       "      <td>142953</td>\n",
       "      <td>71529</td>\n",
       "      <td>12367816</td>\n",
       "      <td>641088</td>\n",
       "      <td>75895</td>\n",
       "      <td>...</td>\n",
       "      <td>942801</td>\n",
       "      <td>7853</td>\n",
       "      <td>178502</td>\n",
       "      <td>1124564</td>\n",
       "      <td>612898</td>\n",
       "      <td>54225</td>\n",
       "      <td>360778</td>\n",
       "      <td>32538</td>\n",
       "      <td>12582298</td>\n",
       "      <td>24515313</td>\n",
       "    </tr>\n",
       "    <tr>\n",
       "      <th>13</th>\n",
       "      <td>전남</td>\n",
       "      <td>2284124</td>\n",
       "      <td>964024</td>\n",
       "      <td>5690659</td>\n",
       "      <td>6654683</td>\n",
       "      <td>3096126</td>\n",
       "      <td>73217</td>\n",
       "      <td>21453926</td>\n",
       "      <td>511361</td>\n",
       "      <td>160506</td>\n",
       "      <td>...</td>\n",
       "      <td>66431</td>\n",
       "      <td>1061</td>\n",
       "      <td>149939</td>\n",
       "      <td>42399</td>\n",
       "      <td>72132</td>\n",
       "      <td>481592</td>\n",
       "      <td>14670</td>\n",
       "      <td>31932</td>\n",
       "      <td>24623269</td>\n",
       "      <td>33562076</td>\n",
       "    </tr>\n",
       "    <tr>\n",
       "      <th>14</th>\n",
       "      <td>전북</td>\n",
       "      <td>2326183</td>\n",
       "      <td>1096968</td>\n",
       "      <td>4910318</td>\n",
       "      <td>6007286</td>\n",
       "      <td>1415004</td>\n",
       "      <td>85300</td>\n",
       "      <td>12965875</td>\n",
       "      <td>1459217</td>\n",
       "      <td>731651</td>\n",
       "      <td>...</td>\n",
       "      <td>159699</td>\n",
       "      <td>7240</td>\n",
       "      <td>130692</td>\n",
       "      <td>420005</td>\n",
       "      <td>859741</td>\n",
       "      <td>70980</td>\n",
       "      <td>16175</td>\n",
       "      <td>99003</td>\n",
       "      <td>14466179</td>\n",
       "      <td>22799647</td>\n",
       "    </tr>\n",
       "    <tr>\n",
       "      <th>15</th>\n",
       "      <td>제주</td>\n",
       "      <td>782601</td>\n",
       "      <td>301727</td>\n",
       "      <td>2308732</td>\n",
       "      <td>2610459</td>\n",
       "      <td>1364930</td>\n",
       "      <td>14019</td>\n",
       "      <td>241537</td>\n",
       "      <td>155987</td>\n",
       "      <td>3497</td>\n",
       "      <td>...</td>\n",
       "      <td>1167</td>\n",
       "      <td>0</td>\n",
       "      <td>771</td>\n",
       "      <td>0</td>\n",
       "      <td>773</td>\n",
       "      <td>532</td>\n",
       "      <td>1743</td>\n",
       "      <td>743</td>\n",
       "      <td>1620486</td>\n",
       "      <td>5013545</td>\n",
       "    </tr>\n",
       "    <tr>\n",
       "      <th>16</th>\n",
       "      <td>충남</td>\n",
       "      <td>2691823</td>\n",
       "      <td>1089613</td>\n",
       "      <td>7164439</td>\n",
       "      <td>8254052</td>\n",
       "      <td>1928066</td>\n",
       "      <td>248313</td>\n",
       "      <td>37057955</td>\n",
       "      <td>1137035</td>\n",
       "      <td>269998</td>\n",
       "      <td>...</td>\n",
       "      <td>611925</td>\n",
       "      <td>12208</td>\n",
       "      <td>428906</td>\n",
       "      <td>10953811</td>\n",
       "      <td>2526658</td>\n",
       "      <td>33766</td>\n",
       "      <td>53804</td>\n",
       "      <td>19725</td>\n",
       "      <td>39234334</td>\n",
       "      <td>50180209</td>\n",
       "    </tr>\n",
       "    <tr>\n",
       "      <th>17</th>\n",
       "      <td>충북</td>\n",
       "      <td>2027281</td>\n",
       "      <td>1267140</td>\n",
       "      <td>4804638</td>\n",
       "      <td>6071778</td>\n",
       "      <td>721131</td>\n",
       "      <td>139856</td>\n",
       "      <td>15883448</td>\n",
       "      <td>1152073</td>\n",
       "      <td>333846</td>\n",
       "      <td>...</td>\n",
       "      <td>366871</td>\n",
       "      <td>23076</td>\n",
       "      <td>1125141</td>\n",
       "      <td>4103832</td>\n",
       "      <td>603349</td>\n",
       "      <td>82496</td>\n",
       "      <td>513501</td>\n",
       "      <td>46038</td>\n",
       "      <td>16744435</td>\n",
       "      <td>24843494</td>\n",
       "    </tr>\n",
       "    <tr>\n",
       "      <th>18</th>\n",
       "      <td>합계</td>\n",
       "      <td>64576423</td>\n",
       "      <td>22204112</td>\n",
       "      <td>134748546</td>\n",
       "      <td>156952658</td>\n",
       "      <td>15373994</td>\n",
       "      <td>1347957</td>\n",
       "      <td>252942540</td>\n",
       "      <td>10735833</td>\n",
       "      <td>11247578</td>\n",
       "      <td>...</td>\n",
       "      <td>10504640</td>\n",
       "      <td>487262</td>\n",
       "      <td>5763846</td>\n",
       "      <td>47655808</td>\n",
       "      <td>17790147</td>\n",
       "      <td>4311878</td>\n",
       "      <td>3396006</td>\n",
       "      <td>559909</td>\n",
       "      <td>269664491</td>\n",
       "      <td>491193571</td>\n",
       "    </tr>\n",
       "  </tbody>\n",
       "</table>\n",
       "<p>19 rows × 28 columns</p>\n",
       "</div>"
      ],
      "text/plain": [
       "    구분       주거용       공공용       서비스업      업무용합계      농림어업       광업  \\\n",
       "0   강원   1940933   1400421    6203749    7604170    607139   398287   \n",
       "1   개성         0         0          0          0         0        0   \n",
       "2   경기  16587710   5533662   33434551   38968213   2371347   317263   \n",
       "3   경남   4260988   1427560    8667737   10095297   2141813    95989   \n",
       "4   경북   3302463   1578115    8487402   10065517   1747462   224568   \n",
       "5   광주   1954876    565527    3174973    3740500     74608     2898   \n",
       "6   대구   3151904    826396    5470438    6296834     69142     5858   \n",
       "7   대전   1872890    954681    3955921    4910602     28643     3326   \n",
       "8   부산   4473510   1305876    7582169    8888045    107927    25289   \n",
       "9   서울  13131172   3581534   27647345   31228879     15150     4064   \n",
       "10  세종    384903    299675     645424     945099     69469    16364   \n",
       "11  울산   1487143    489865    3649386    4139251     80221    20103   \n",
       "12  인천   3856852    921748    7154416    8076164    142953    71529   \n",
       "13  전남   2284124    964024    5690659    6654683   3096126    73217   \n",
       "14  전북   2326183   1096968    4910318    6007286   1415004    85300   \n",
       "15  제주    782601    301727    2308732    2610459   1364930    14019   \n",
       "16  충남   2691823   1089613    7164439    8254052   1928066   248313   \n",
       "17  충북   2027281   1267140    4804638    6071778    721131   139856   \n",
       "18  합계  64576423  22204112  134748546  156952658  15373994  1347957   \n",
       "\n",
       "          제조업     식료품제조     섬유,의류    ...          기타기계    사무기기     전기기기  \\\n",
       "0     6002286    546621     13027    ...         35063    2019    38062   \n",
       "1           0         0         0    ...             0       0        0   \n",
       "2    56603327   2544420   2109963    ...       3613798  317244  1040171   \n",
       "3    18053778    932743    346974    ...       1902913    8070   924235   \n",
       "4    30115601    566071   3780171    ...        782570   14468   750786   \n",
       "5     2910768    161072    295922    ...        198847    5967   236622   \n",
       "6     5862633    212626   1057342    ...        516493   58446   180189   \n",
       "7     2608343    204171     41687    ...         77970    2949    83609   \n",
       "8     7512588    532943    528513    ...        904149    4913   107717   \n",
       "9     1918893    227077    497699    ...        163688    4395    11425   \n",
       "10    1502922    110211     70617    ...         26185   14319    33539   \n",
       "11   25883132    187738    943299    ...        169132    5053   381602   \n",
       "12   12367816    641088     75895    ...        942801    7853   178502   \n",
       "13   21453926    511361    160506    ...         66431    1061   149939   \n",
       "14   12965875   1459217    731651    ...        159699    7240   130692   \n",
       "15     241537    155987      3497    ...          1167       0      771   \n",
       "16   37057955   1137035    269998    ...        611925   12208   428906   \n",
       "17   15883448   1152073    333846    ...        366871   23076  1125141   \n",
       "18  252942540  10735833  11247578    ...      10504640  487262  5763846   \n",
       "\n",
       "       영상,음향       자동차     기타운송    가구및기타    재생재료      산업용합계         합계  \n",
       "0      43986    113448   108629    12872    3418    7007712   16552816  \n",
       "1          0         0        0        0       0          0          0  \n",
       "2   24519644   2977165    67594  1833112  133041   59291937  114847859  \n",
       "3     534196   2156059  2048646   262523   47662   20291580   34647864  \n",
       "4    4174971   2356890   123935    60280   77104   32087631   45455611  \n",
       "5     723764    512148     5140    13392   16049    2988274    8683649  \n",
       "6     252662   1381273    68127    41814   33616    5937633   15386372  \n",
       "7     474561    218191     5439    31657    2252    2640312    9423804  \n",
       "8      90644   1046529   231141    49733   13104    7645804   21007358  \n",
       "9      46225     20182    17656   132707    2875    1938107   46298158  \n",
       "10    170366     79009        0     5132    2603    1588755    2918758  \n",
       "11     24165   2367150  1020610     4984    1626   25983456   31609850  \n",
       "12   1124564    612898    54225   360778   32538   12582298   24515313  \n",
       "13     42399     72132   481592    14670   31932   24623269   33562076  \n",
       "14    420005    859741    70980    16175   99003   14466179   22799647  \n",
       "15         0       773      532     1743     743    1620486    5013545  \n",
       "16  10953811   2526658    33766    53804   19725   39234334   50180209  \n",
       "17   4103832    603349    82496   513501   46038   16744435   24843494  \n",
       "18  47655808  17790147  4311878  3396006  559909  269664491  491193571  \n",
       "\n",
       "[19 rows x 28 columns]"
      ]
     },
     "execution_count": 38,
     "metadata": {},
     "output_type": "execute_result"
    }
   ],
   "source": [
    "power \n",
    "# 위에서 경기의 값을 제외하고 불러냈지만 다시 경기의 값이 나타남 -> 경기의 값을 아예 없애려면 power=으로 정의해줘야 함"
   ]
  },
  {
   "cell_type": "code",
   "execution_count": 39,
   "metadata": {},
   "outputs": [],
   "source": [
    "power = power.set_index('구분') # 구분을 인덱스로 잡아라 "
   ]
  },
  {
   "cell_type": "code",
   "execution_count": 40,
   "metadata": {},
   "outputs": [],
   "source": [
    "power = power.drop(['개성','합계']) # 개성과 합계 행을 제외한다. 개성과 합계 두개의 행을 지워야 하므로 []가 들어감"
   ]
  },
  {
   "cell_type": "code",
   "execution_count": 41,
   "metadata": {},
   "outputs": [
    {
     "data": {
      "text/plain": [
       "<matplotlib.axes._subplots.AxesSubplot at 0xb91d0f0>"
      ]
     },
     "execution_count": 41,
     "metadata": {},
     "output_type": "execute_result"
    },
    {
     "data": {
      "image/png": "[encoded data removed]",
      "text/plain": [
       "<Figure size 432x288 with 1 Axes>"
      ]
     },
     "metadata": {
      "needs_background": "light"
     },
     "output_type": "display_data"
    }
   ],
   "source": [
    "power.boxplot() # 상자그림을 그려라"
   ]
  },
  {
   "cell_type": "code",
   "execution_count": 42,
   "metadata": {},
   "outputs": [
    {
     "data": {
      "text/plain": [
       "(array([ 1,  2,  3,  4,  5,  6,  7,  8,  9, 10, 11, 12, 13, 14, 15, 16, 17,\n",
       "        18, 19, 20, 21, 22, 23, 24, 25, 26]),\n",
       " <a list of 26 Text xticklabel objects>)"
      ]
     },
     "execution_count": 42,
     "metadata": {},
     "output_type": "execute_result"
    },
    {
     "data": {
      "image/png": "[encoded data removed]",
      "text/plain": [
       "<Figure size 720x576 with 1 Axes>"
      ]
     },
     "metadata": {
      "needs_background": "light"
     },
     "output_type": "display_data"
    }
   ],
   "source": [
    "power1=power.drop('합계',axis=1) # axis=1은 column(열)을 뜻하는데 column에서 합계를 찾아서 지우라는 의미\n",
    "plt.figure(figsize=(10,8)) #그래프 사이즈\n",
    "power1.boxplot()\n",
    "plt.xticks(rotation=45) # 글자가 겹쳐서 안겹치게 하는 것"
   ]
  },
  {
   "cell_type": "code",
   "execution_count": 43,
   "metadata": {},
   "outputs": [
    {
     "data": {
      "text/html": [
       "<div>\n",
       "<style scoped>\n",
       "    .dataframe tbody tr th:only-of-type {\n",
       "        vertical-align: middle;\n",
       "    }\n",
       "\n",
       "    .dataframe tbody tr th {\n",
       "        vertical-align: top;\n",
       "    }\n",
       "\n",
       "    .dataframe thead th {\n",
       "        text-align: right;\n",
       "    }\n",
       "</style>\n",
       "<table border=\"1\" class=\"dataframe\">\n",
       "  <thead>\n",
       "    <tr style=\"text-align: right;\">\n",
       "      <th></th>\n",
       "      <th>주거용</th>\n",
       "      <th>공공용</th>\n",
       "      <th>서비스업</th>\n",
       "      <th>업무용합계</th>\n",
       "      <th>농림어업</th>\n",
       "      <th>광업</th>\n",
       "      <th>제조업</th>\n",
       "      <th>식료품제조</th>\n",
       "      <th>섬유,의류</th>\n",
       "      <th>목재,나무</th>\n",
       "      <th>...</th>\n",
       "      <th>조립금속</th>\n",
       "      <th>기타기계</th>\n",
       "      <th>사무기기</th>\n",
       "      <th>전기기기</th>\n",
       "      <th>영상,음향</th>\n",
       "      <th>자동차</th>\n",
       "      <th>기타운송</th>\n",
       "      <th>가구및기타</th>\n",
       "      <th>재생재료</th>\n",
       "      <th>산업용합계</th>\n",
       "    </tr>\n",
       "    <tr>\n",
       "      <th>구분</th>\n",
       "      <th></th>\n",
       "      <th></th>\n",
       "      <th></th>\n",
       "      <th></th>\n",
       "      <th></th>\n",
       "      <th></th>\n",
       "      <th></th>\n",
       "      <th></th>\n",
       "      <th></th>\n",
       "      <th></th>\n",
       "      <th></th>\n",
       "      <th></th>\n",
       "      <th></th>\n",
       "      <th></th>\n",
       "      <th></th>\n",
       "      <th></th>\n",
       "      <th></th>\n",
       "      <th></th>\n",
       "      <th></th>\n",
       "      <th></th>\n",
       "      <th></th>\n",
       "    </tr>\n",
       "  </thead>\n",
       "  <tbody>\n",
       "    <tr>\n",
       "      <th>강원</th>\n",
       "      <td>1940933</td>\n",
       "      <td>1400421</td>\n",
       "      <td>6203749</td>\n",
       "      <td>7604170</td>\n",
       "      <td>607139</td>\n",
       "      <td>398287</td>\n",
       "      <td>6002286</td>\n",
       "      <td>546621</td>\n",
       "      <td>13027</td>\n",
       "      <td>19147</td>\n",
       "      <td>...</td>\n",
       "      <td>39477</td>\n",
       "      <td>35063</td>\n",
       "      <td>2019</td>\n",
       "      <td>38062</td>\n",
       "      <td>43986</td>\n",
       "      <td>113448</td>\n",
       "      <td>108629</td>\n",
       "      <td>12872</td>\n",
       "      <td>3418</td>\n",
       "      <td>7007712</td>\n",
       "    </tr>\n",
       "    <tr>\n",
       "      <th>경기</th>\n",
       "      <td>16587710</td>\n",
       "      <td>5533662</td>\n",
       "      <td>33434551</td>\n",
       "      <td>38968213</td>\n",
       "      <td>2371347</td>\n",
       "      <td>317263</td>\n",
       "      <td>56603327</td>\n",
       "      <td>2544420</td>\n",
       "      <td>2109963</td>\n",
       "      <td>529274</td>\n",
       "      <td>...</td>\n",
       "      <td>2302355</td>\n",
       "      <td>3613798</td>\n",
       "      <td>317244</td>\n",
       "      <td>1040171</td>\n",
       "      <td>24519644</td>\n",
       "      <td>2977165</td>\n",
       "      <td>67594</td>\n",
       "      <td>1833112</td>\n",
       "      <td>133041</td>\n",
       "      <td>59291937</td>\n",
       "    </tr>\n",
       "    <tr>\n",
       "      <th>경남</th>\n",
       "      <td>4260988</td>\n",
       "      <td>1427560</td>\n",
       "      <td>8667737</td>\n",
       "      <td>10095297</td>\n",
       "      <td>2141813</td>\n",
       "      <td>95989</td>\n",
       "      <td>18053778</td>\n",
       "      <td>932743</td>\n",
       "      <td>346974</td>\n",
       "      <td>60160</td>\n",
       "      <td>...</td>\n",
       "      <td>1699879</td>\n",
       "      <td>1902913</td>\n",
       "      <td>8070</td>\n",
       "      <td>924235</td>\n",
       "      <td>534196</td>\n",
       "      <td>2156059</td>\n",
       "      <td>2048646</td>\n",
       "      <td>262523</td>\n",
       "      <td>47662</td>\n",
       "      <td>20291580</td>\n",
       "    </tr>\n",
       "    <tr>\n",
       "      <th>경북</th>\n",
       "      <td>3302463</td>\n",
       "      <td>1578115</td>\n",
       "      <td>8487402</td>\n",
       "      <td>10065517</td>\n",
       "      <td>1747462</td>\n",
       "      <td>224568</td>\n",
       "      <td>30115601</td>\n",
       "      <td>566071</td>\n",
       "      <td>3780171</td>\n",
       "      <td>72680</td>\n",
       "      <td>...</td>\n",
       "      <td>933178</td>\n",
       "      <td>782570</td>\n",
       "      <td>14468</td>\n",
       "      <td>750786</td>\n",
       "      <td>4174971</td>\n",
       "      <td>2356890</td>\n",
       "      <td>123935</td>\n",
       "      <td>60280</td>\n",
       "      <td>77104</td>\n",
       "      <td>32087631</td>\n",
       "    </tr>\n",
       "    <tr>\n",
       "      <th>광주</th>\n",
       "      <td>1954876</td>\n",
       "      <td>565527</td>\n",
       "      <td>3174973</td>\n",
       "      <td>3740500</td>\n",
       "      <td>74608</td>\n",
       "      <td>2898</td>\n",
       "      <td>2910768</td>\n",
       "      <td>161072</td>\n",
       "      <td>295922</td>\n",
       "      <td>6782</td>\n",
       "      <td>...</td>\n",
       "      <td>156396</td>\n",
       "      <td>198847</td>\n",
       "      <td>5967</td>\n",
       "      <td>236622</td>\n",
       "      <td>723764</td>\n",
       "      <td>512148</td>\n",
       "      <td>5140</td>\n",
       "      <td>13392</td>\n",
       "      <td>16049</td>\n",
       "      <td>2988274</td>\n",
       "    </tr>\n",
       "    <tr>\n",
       "      <th>대구</th>\n",
       "      <td>3151904</td>\n",
       "      <td>826396</td>\n",
       "      <td>5470438</td>\n",
       "      <td>6296834</td>\n",
       "      <td>69142</td>\n",
       "      <td>5858</td>\n",
       "      <td>5862633</td>\n",
       "      <td>212626</td>\n",
       "      <td>1057342</td>\n",
       "      <td>16215</td>\n",
       "      <td>...</td>\n",
       "      <td>661307</td>\n",
       "      <td>516493</td>\n",
       "      <td>58446</td>\n",
       "      <td>180189</td>\n",
       "      <td>252662</td>\n",
       "      <td>1381273</td>\n",
       "      <td>68127</td>\n",
       "      <td>41814</td>\n",
       "      <td>33616</td>\n",
       "      <td>5937633</td>\n",
       "    </tr>\n",
       "    <tr>\n",
       "      <th>대전</th>\n",
       "      <td>1872890</td>\n",
       "      <td>954681</td>\n",
       "      <td>3955921</td>\n",
       "      <td>4910602</td>\n",
       "      <td>28643</td>\n",
       "      <td>3326</td>\n",
       "      <td>2608343</td>\n",
       "      <td>204171</td>\n",
       "      <td>41687</td>\n",
       "      <td>4311</td>\n",
       "      <td>...</td>\n",
       "      <td>69342</td>\n",
       "      <td>77970</td>\n",
       "      <td>2949</td>\n",
       "      <td>83609</td>\n",
       "      <td>474561</td>\n",
       "      <td>218191</td>\n",
       "      <td>5439</td>\n",
       "      <td>31657</td>\n",
       "      <td>2252</td>\n",
       "      <td>2640312</td>\n",
       "    </tr>\n",
       "    <tr>\n",
       "      <th>부산</th>\n",
       "      <td>4473510</td>\n",
       "      <td>1305876</td>\n",
       "      <td>7582169</td>\n",
       "      <td>8888045</td>\n",
       "      <td>107927</td>\n",
       "      <td>25289</td>\n",
       "      <td>7512588</td>\n",
       "      <td>532943</td>\n",
       "      <td>528513</td>\n",
       "      <td>51980</td>\n",
       "      <td>...</td>\n",
       "      <td>872952</td>\n",
       "      <td>904149</td>\n",
       "      <td>4913</td>\n",
       "      <td>107717</td>\n",
       "      <td>90644</td>\n",
       "      <td>1046529</td>\n",
       "      <td>231141</td>\n",
       "      <td>49733</td>\n",
       "      <td>13104</td>\n",
       "      <td>7645804</td>\n",
       "    </tr>\n",
       "    <tr>\n",
       "      <th>서울</th>\n",
       "      <td>13131172</td>\n",
       "      <td>3581534</td>\n",
       "      <td>27647345</td>\n",
       "      <td>31228879</td>\n",
       "      <td>15150</td>\n",
       "      <td>4064</td>\n",
       "      <td>1918893</td>\n",
       "      <td>227077</td>\n",
       "      <td>497699</td>\n",
       "      <td>4399</td>\n",
       "      <td>...</td>\n",
       "      <td>64682</td>\n",
       "      <td>163688</td>\n",
       "      <td>4395</td>\n",
       "      <td>11425</td>\n",
       "      <td>46225</td>\n",
       "      <td>20182</td>\n",
       "      <td>17656</td>\n",
       "      <td>132707</td>\n",
       "      <td>2875</td>\n",
       "      <td>1938107</td>\n",
       "    </tr>\n",
       "    <tr>\n",
       "      <th>세종</th>\n",
       "      <td>384903</td>\n",
       "      <td>299675</td>\n",
       "      <td>645424</td>\n",
       "      <td>945099</td>\n",
       "      <td>69469</td>\n",
       "      <td>16364</td>\n",
       "      <td>1502922</td>\n",
       "      <td>110211</td>\n",
       "      <td>70617</td>\n",
       "      <td>1324</td>\n",
       "      <td>...</td>\n",
       "      <td>11390</td>\n",
       "      <td>26185</td>\n",
       "      <td>14319</td>\n",
       "      <td>33539</td>\n",
       "      <td>170366</td>\n",
       "      <td>79009</td>\n",
       "      <td>0</td>\n",
       "      <td>5132</td>\n",
       "      <td>2603</td>\n",
       "      <td>1588755</td>\n",
       "    </tr>\n",
       "    <tr>\n",
       "      <th>울산</th>\n",
       "      <td>1487143</td>\n",
       "      <td>489865</td>\n",
       "      <td>3649386</td>\n",
       "      <td>4139251</td>\n",
       "      <td>80221</td>\n",
       "      <td>20103</td>\n",
       "      <td>25883132</td>\n",
       "      <td>187738</td>\n",
       "      <td>943299</td>\n",
       "      <td>12286</td>\n",
       "      <td>...</td>\n",
       "      <td>393469</td>\n",
       "      <td>169132</td>\n",
       "      <td>5053</td>\n",
       "      <td>381602</td>\n",
       "      <td>24165</td>\n",
       "      <td>2367150</td>\n",
       "      <td>1020610</td>\n",
       "      <td>4984</td>\n",
       "      <td>1626</td>\n",
       "      <td>25983456</td>\n",
       "    </tr>\n",
       "    <tr>\n",
       "      <th>인천</th>\n",
       "      <td>3856852</td>\n",
       "      <td>921748</td>\n",
       "      <td>7154416</td>\n",
       "      <td>8076164</td>\n",
       "      <td>142953</td>\n",
       "      <td>71529</td>\n",
       "      <td>12367816</td>\n",
       "      <td>641088</td>\n",
       "      <td>75895</td>\n",
       "      <td>639429</td>\n",
       "      <td>...</td>\n",
       "      <td>750654</td>\n",
       "      <td>942801</td>\n",
       "      <td>7853</td>\n",
       "      <td>178502</td>\n",
       "      <td>1124564</td>\n",
       "      <td>612898</td>\n",
       "      <td>54225</td>\n",
       "      <td>360778</td>\n",
       "      <td>32538</td>\n",
       "      <td>12582298</td>\n",
       "    </tr>\n",
       "    <tr>\n",
       "      <th>전남</th>\n",
       "      <td>2284124</td>\n",
       "      <td>964024</td>\n",
       "      <td>5690659</td>\n",
       "      <td>6654683</td>\n",
       "      <td>3096126</td>\n",
       "      <td>73217</td>\n",
       "      <td>21453926</td>\n",
       "      <td>511361</td>\n",
       "      <td>160506</td>\n",
       "      <td>27998</td>\n",
       "      <td>...</td>\n",
       "      <td>123651</td>\n",
       "      <td>66431</td>\n",
       "      <td>1061</td>\n",
       "      <td>149939</td>\n",
       "      <td>42399</td>\n",
       "      <td>72132</td>\n",
       "      <td>481592</td>\n",
       "      <td>14670</td>\n",
       "      <td>31932</td>\n",
       "      <td>24623269</td>\n",
       "    </tr>\n",
       "    <tr>\n",
       "      <th>전북</th>\n",
       "      <td>2326183</td>\n",
       "      <td>1096968</td>\n",
       "      <td>4910318</td>\n",
       "      <td>6007286</td>\n",
       "      <td>1415004</td>\n",
       "      <td>85300</td>\n",
       "      <td>12965875</td>\n",
       "      <td>1459217</td>\n",
       "      <td>731651</td>\n",
       "      <td>291729</td>\n",
       "      <td>...</td>\n",
       "      <td>137635</td>\n",
       "      <td>159699</td>\n",
       "      <td>7240</td>\n",
       "      <td>130692</td>\n",
       "      <td>420005</td>\n",
       "      <td>859741</td>\n",
       "      <td>70980</td>\n",
       "      <td>16175</td>\n",
       "      <td>99003</td>\n",
       "      <td>14466179</td>\n",
       "    </tr>\n",
       "    <tr>\n",
       "      <th>제주</th>\n",
       "      <td>782601</td>\n",
       "      <td>301727</td>\n",
       "      <td>2308732</td>\n",
       "      <td>2610459</td>\n",
       "      <td>1364930</td>\n",
       "      <td>14019</td>\n",
       "      <td>241537</td>\n",
       "      <td>155987</td>\n",
       "      <td>3497</td>\n",
       "      <td>1524</td>\n",
       "      <td>...</td>\n",
       "      <td>3331</td>\n",
       "      <td>1167</td>\n",
       "      <td>0</td>\n",
       "      <td>771</td>\n",
       "      <td>0</td>\n",
       "      <td>773</td>\n",
       "      <td>532</td>\n",
       "      <td>1743</td>\n",
       "      <td>743</td>\n",
       "      <td>1620486</td>\n",
       "    </tr>\n",
       "    <tr>\n",
       "      <th>충남</th>\n",
       "      <td>2691823</td>\n",
       "      <td>1089613</td>\n",
       "      <td>7164439</td>\n",
       "      <td>8254052</td>\n",
       "      <td>1928066</td>\n",
       "      <td>248313</td>\n",
       "      <td>37057955</td>\n",
       "      <td>1137035</td>\n",
       "      <td>269998</td>\n",
       "      <td>134109</td>\n",
       "      <td>...</td>\n",
       "      <td>565003</td>\n",
       "      <td>611925</td>\n",
       "      <td>12208</td>\n",
       "      <td>428906</td>\n",
       "      <td>10953811</td>\n",
       "      <td>2526658</td>\n",
       "      <td>33766</td>\n",
       "      <td>53804</td>\n",
       "      <td>19725</td>\n",
       "      <td>39234334</td>\n",
       "    </tr>\n",
       "    <tr>\n",
       "      <th>충북</th>\n",
       "      <td>2027281</td>\n",
       "      <td>1267140</td>\n",
       "      <td>4804638</td>\n",
       "      <td>6071778</td>\n",
       "      <td>721131</td>\n",
       "      <td>139856</td>\n",
       "      <td>15883448</td>\n",
       "      <td>1152073</td>\n",
       "      <td>333846</td>\n",
       "      <td>51682</td>\n",
       "      <td>...</td>\n",
       "      <td>738699</td>\n",
       "      <td>366871</td>\n",
       "      <td>23076</td>\n",
       "      <td>1125141</td>\n",
       "      <td>4103832</td>\n",
       "      <td>603349</td>\n",
       "      <td>82496</td>\n",
       "      <td>513501</td>\n",
       "      <td>46038</td>\n",
       "      <td>16744435</td>\n",
       "    </tr>\n",
       "  </tbody>\n",
       "</table>\n",
       "<p>17 rows × 26 columns</p>\n",
       "</div>"
      ],
      "text/plain": [
       "         주거용      공공용      서비스업     업무용합계     농림어업      광업       제조업    식료품제조  \\\n",
       "구분                                                                              \n",
       "강원   1940933  1400421   6203749   7604170   607139  398287   6002286   546621   \n",
       "경기  16587710  5533662  33434551  38968213  2371347  317263  56603327  2544420   \n",
       "경남   4260988  1427560   8667737  10095297  2141813   95989  18053778   932743   \n",
       "경북   3302463  1578115   8487402  10065517  1747462  224568  30115601   566071   \n",
       "광주   1954876   565527   3174973   3740500    74608    2898   2910768   161072   \n",
       "대구   3151904   826396   5470438   6296834    69142    5858   5862633   212626   \n",
       "대전   1872890   954681   3955921   4910602    28643    3326   2608343   204171   \n",
       "부산   4473510  1305876   7582169   8888045   107927   25289   7512588   532943   \n",
       "서울  13131172  3581534  27647345  31228879    15150    4064   1918893   227077   \n",
       "세종    384903   299675    645424    945099    69469   16364   1502922   110211   \n",
       "울산   1487143   489865   3649386   4139251    80221   20103  25883132   187738   \n",
       "인천   3856852   921748   7154416   8076164   142953   71529  12367816   641088   \n",
       "전남   2284124   964024   5690659   6654683  3096126   73217  21453926   511361   \n",
       "전북   2326183  1096968   4910318   6007286  1415004   85300  12965875  1459217   \n",
       "제주    782601   301727   2308732   2610459  1364930   14019    241537   155987   \n",
       "충남   2691823  1089613   7164439   8254052  1928066  248313  37057955  1137035   \n",
       "충북   2027281  1267140   4804638   6071778   721131  139856  15883448  1152073   \n",
       "\n",
       "      섬유,의류   목재,나무    ...        조립금속     기타기계    사무기기     전기기기     영상,음향  \\\n",
       "구분                     ...                                                   \n",
       "강원    13027   19147    ...       39477    35063    2019    38062     43986   \n",
       "경기  2109963  529274    ...     2302355  3613798  317244  1040171  24519644   \n",
       "경남   346974   60160    ...     1699879  1902913    8070   924235    534196   \n",
       "경북  3780171   72680    ...      933178   782570   14468   750786   4174971   \n",
       "광주   295922    6782    ...      156396   198847    5967   236622    723764   \n",
       "대구  1057342   16215    ...      661307   516493   58446   180189    252662   \n",
       "대전    41687    4311    ...       69342    77970    2949    83609    474561   \n",
       "부산   528513   51980    ...      872952   904149    4913   107717     90644   \n",
       "서울   497699    4399    ...       64682   163688    4395    11425     46225   \n",
       "세종    70617    1324    ...       11390    26185   14319    33539    170366   \n",
       "울산   943299   12286    ...      393469   169132    5053   381602     24165   \n",
       "인천    75895  639429    ...      750654   942801    7853   178502   1124564   \n",
       "전남   160506   27998    ...      123651    66431    1061   149939     42399   \n",
       "전북   731651  291729    ...      137635   159699    7240   130692    420005   \n",
       "제주     3497    1524    ...        3331     1167       0      771         0   \n",
       "충남   269998  134109    ...      565003   611925   12208   428906  10953811   \n",
       "충북   333846   51682    ...      738699   366871   23076  1125141   4103832   \n",
       "\n",
       "        자동차     기타운송    가구및기타    재생재료     산업용합계  \n",
       "구분                                               \n",
       "강원   113448   108629    12872    3418   7007712  \n",
       "경기  2977165    67594  1833112  133041  59291937  \n",
       "경남  2156059  2048646   262523   47662  20291580  \n",
       "경북  2356890   123935    60280   77104  32087631  \n",
       "광주   512148     5140    13392   16049   2988274  \n",
       "대구  1381273    68127    41814   33616   5937633  \n",
       "대전   218191     5439    31657    2252   2640312  \n",
       "부산  1046529   231141    49733   13104   7645804  \n",
       "서울    20182    17656   132707    2875   1938107  \n",
       "세종    79009        0     5132    2603   1588755  \n",
       "울산  2367150  1020610     4984    1626  25983456  \n",
       "인천   612898    54225   360778   32538  12582298  \n",
       "전남    72132   481592    14670   31932  24623269  \n",
       "전북   859741    70980    16175   99003  14466179  \n",
       "제주      773      532     1743     743   1620486  \n",
       "충남  2526658    33766    53804   19725  39234334  \n",
       "충북   603349    82496   513501   46038  16744435  \n",
       "\n",
       "[17 rows x 26 columns]"
      ]
     },
     "execution_count": 43,
     "metadata": {},
     "output_type": "execute_result"
    }
   ],
   "source": [
    "power1 # 개성과 합계 행을 제외하고 합계 열을 제외한 데이터"
   ]
  },
  {
   "cell_type": "code",
   "execution_count": 44,
   "metadata": {},
   "outputs": [
    {
     "data": {
      "text/plain": [
       "<matplotlib.axes._subplots.AxesSubplot at 0xbc854f0>"
      ]
     },
     "execution_count": 44,
     "metadata": {},
     "output_type": "execute_result"
    },
    {
     "data": {
      "image/png": "[encoded data removed]",
      "text/plain": [
       "<Figure size 432x288 with 1 Axes>"
      ]
     },
     "metadata": {
      "needs_background": "light"
     },
     "output_type": "display_data"
    }
   ],
   "source": [
    "power1[['제조업']].boxplot() #power1의 제조업 상자그림"
   ]
  },
  {
   "cell_type": "code",
   "execution_count": 45,
   "metadata": {},
   "outputs": [
    {
     "data": {
      "text/plain": [
       "<matplotlib.axes._subplots.AxesSubplot at 0xbe5d090>"
      ]
     },
     "execution_count": 45,
     "metadata": {},
     "output_type": "execute_result"
    },
    {
     "data": {
      "image/png": "[encoded data removed]",
      "text/plain": [
       "<Figure size 432x288 with 1 Axes>"
      ]
     },
     "metadata": {
      "needs_background": "light"
     },
     "output_type": "display_data"
    }
   ],
   "source": [
    "power1[['주거용', '공공용', '서비스업', '업무용합계', '농림어업']].boxplot()"
   ]
  },
  {
   "cell_type": "code",
   "execution_count": 46,
   "metadata": {},
   "outputs": [
    {
     "data": {
      "text/plain": [
       "<matplotlib.axes._subplots.AxesSubplot at 0xbcf0a70>"
      ]
     },
     "execution_count": 46,
     "metadata": {},
     "output_type": "execute_result"
    },
    {
     "data": {
      "image/png": "[encoded data removed]",
      "text/plain": [
       "<Figure size 432x288 with 1 Axes>"
      ]
     },
     "metadata": {
      "needs_background": "light"
     },
     "output_type": "display_data"
    }
   ],
   "source": [
    "power1.plot(kind='bar')"
   ]
  },
  {
   "cell_type": "code",
   "execution_count": 47,
   "metadata": {},
   "outputs": [
    {
     "data": {
      "text/plain": [
       "<matplotlib.axes._subplots.AxesSubplot at 0xbd7cfd0>"
      ]
     },
     "execution_count": 47,
     "metadata": {},
     "output_type": "execute_result"
    },
    {
     "data": {
      "image/png": "[encoded data removed]",
      "text/plain": [
       "<Figure size 432x288 with 1 Axes>"
      ]
     },
     "metadata": {
      "needs_background": "light"
     },
     "output_type": "display_data"
    }
   ],
   "source": [
    "power1.plot(kind='barh')"
   ]
  },
  {
   "cell_type": "code",
   "execution_count": 48,
   "metadata": {},
   "outputs": [
    {
     "data": {
      "text/plain": [
       "<matplotlib.axes._subplots.AxesSubplot at 0xc288e30>"
      ]
     },
     "execution_count": 48,
     "metadata": {},
     "output_type": "execute_result"
    },
    {
     "data": {
      "image/png": "[encoded data removed]",
      "text/plain": [
       "<Figure size 432x288 with 1 Axes>"
      ]
     },
     "metadata": {
      "needs_background": "light"
     },
     "output_type": "display_data"
    }
   ],
   "source": [
    "power1.plot(kind='barh',stacked=True)"
   ]
  },
  {
   "cell_type": "code",
   "execution_count": 49,
   "metadata": {},
   "outputs": [
    {
     "data": {
      "text/plain": [
       "<matplotlib.axes._subplots.AxesSubplot at 0xc648e50>"
      ]
     },
     "execution_count": 49,
     "metadata": {},
     "output_type": "execute_result"
    },
    {
     "data": {
      "image/png": "[encoded data removed]",
      "text/plain": [
       "<Figure size 720x576 with 1 Axes>"
      ]
     },
     "metadata": {
      "needs_background": "light"
     },
     "output_type": "display_data"
    }
   ],
   "source": [
    "power1.plot(kind='barh',stacked=True, figsize=(10,8))"
   ]
  },
  {
   "cell_type": "code",
   "execution_count": 50,
   "metadata": {},
   "outputs": [
    {
     "data": {
      "text/plain": [
       "<matplotlib.axes._subplots.AxesSubplot at 0xc9dde50>"
      ]
     },
     "execution_count": 50,
     "metadata": {},
     "output_type": "execute_result"
    },
    {
     "data": {
      "image/png": "[encoded data removed]",
      "text/plain": [
       "<Figure size 720x576 with 1 Axes>"
      ]
     },
     "metadata": {
      "needs_background": "light"
     },
     "output_type": "display_data"
    }
   ],
   "source": [
    "power1[['주거용','공공용','서비스업']].plot(kind='barh',stacked=True,figsize=(10,8))"
   ]
  },
  {
   "cell_type": "code",
   "execution_count": 51,
   "metadata": {},
   "outputs": [
    {
     "data": {
      "text/plain": [
       "(17, 26)"
      ]
     },
     "execution_count": 51,
     "metadata": {},
     "output_type": "execute_result"
    }
   ],
   "source": [
    "power1.shape # 19*28이었는데 앞의 인덱스와 합계를 빼고 개성과 합계를 제외했기때문에 17,26임"
   ]
  },
  {
   "cell_type": "code",
   "execution_count": 52,
   "metadata": {},
   "outputs": [],
   "source": [
    "power2=power1[['서비스업','제조업']]"
   ]
  },
  {
   "cell_type": "code",
   "execution_count": 53,
   "metadata": {},
   "outputs": [
    {
     "data": {
      "text/html": [
       "<div>\n",
       "<style scoped>\n",
       "    .dataframe tbody tr th:only-of-type {\n",
       "        vertical-align: middle;\n",
       "    }\n",
       "\n",
       "    .dataframe tbody tr th {\n",
       "        vertical-align: top;\n",
       "    }\n",
       "\n",
       "    .dataframe thead th {\n",
       "        text-align: right;\n",
       "    }\n",
       "</style>\n",
       "<table border=\"1\" class=\"dataframe\">\n",
       "  <thead>\n",
       "    <tr style=\"text-align: right;\">\n",
       "      <th></th>\n",
       "      <th>서비스업</th>\n",
       "      <th>제조업</th>\n",
       "    </tr>\n",
       "    <tr>\n",
       "      <th>구분</th>\n",
       "      <th></th>\n",
       "      <th></th>\n",
       "    </tr>\n",
       "  </thead>\n",
       "  <tbody>\n",
       "    <tr>\n",
       "      <th>강원</th>\n",
       "      <td>6203749</td>\n",
       "      <td>6002286</td>\n",
       "    </tr>\n",
       "    <tr>\n",
       "      <th>경기</th>\n",
       "      <td>33434551</td>\n",
       "      <td>56603327</td>\n",
       "    </tr>\n",
       "    <tr>\n",
       "      <th>경남</th>\n",
       "      <td>8667737</td>\n",
       "      <td>18053778</td>\n",
       "    </tr>\n",
       "    <tr>\n",
       "      <th>경북</th>\n",
       "      <td>8487402</td>\n",
       "      <td>30115601</td>\n",
       "    </tr>\n",
       "    <tr>\n",
       "      <th>광주</th>\n",
       "      <td>3174973</td>\n",
       "      <td>2910768</td>\n",
       "    </tr>\n",
       "    <tr>\n",
       "      <th>대구</th>\n",
       "      <td>5470438</td>\n",
       "      <td>5862633</td>\n",
       "    </tr>\n",
       "    <tr>\n",
       "      <th>대전</th>\n",
       "      <td>3955921</td>\n",
       "      <td>2608343</td>\n",
       "    </tr>\n",
       "    <tr>\n",
       "      <th>부산</th>\n",
       "      <td>7582169</td>\n",
       "      <td>7512588</td>\n",
       "    </tr>\n",
       "    <tr>\n",
       "      <th>서울</th>\n",
       "      <td>27647345</td>\n",
       "      <td>1918893</td>\n",
       "    </tr>\n",
       "    <tr>\n",
       "      <th>세종</th>\n",
       "      <td>645424</td>\n",
       "      <td>1502922</td>\n",
       "    </tr>\n",
       "    <tr>\n",
       "      <th>울산</th>\n",
       "      <td>3649386</td>\n",
       "      <td>25883132</td>\n",
       "    </tr>\n",
       "    <tr>\n",
       "      <th>인천</th>\n",
       "      <td>7154416</td>\n",
       "      <td>12367816</td>\n",
       "    </tr>\n",
       "    <tr>\n",
       "      <th>전남</th>\n",
       "      <td>5690659</td>\n",
       "      <td>21453926</td>\n",
       "    </tr>\n",
       "    <tr>\n",
       "      <th>전북</th>\n",
       "      <td>4910318</td>\n",
       "      <td>12965875</td>\n",
       "    </tr>\n",
       "    <tr>\n",
       "      <th>제주</th>\n",
       "      <td>2308732</td>\n",
       "      <td>241537</td>\n",
       "    </tr>\n",
       "    <tr>\n",
       "      <th>충남</th>\n",
       "      <td>7164439</td>\n",
       "      <td>37057955</td>\n",
       "    </tr>\n",
       "    <tr>\n",
       "      <th>충북</th>\n",
       "      <td>4804638</td>\n",
       "      <td>15883448</td>\n",
       "    </tr>\n",
       "  </tbody>\n",
       "</table>\n",
       "</div>"
      ],
      "text/plain": [
       "        서비스업       제조업\n",
       "구분                    \n",
       "강원   6203749   6002286\n",
       "경기  33434551  56603327\n",
       "경남   8667737  18053778\n",
       "경북   8487402  30115601\n",
       "광주   3174973   2910768\n",
       "대구   5470438   5862633\n",
       "대전   3955921   2608343\n",
       "부산   7582169   7512588\n",
       "서울  27647345   1918893\n",
       "세종    645424   1502922\n",
       "울산   3649386  25883132\n",
       "인천   7154416  12367816\n",
       "전남   5690659  21453926\n",
       "전북   4910318  12965875\n",
       "제주   2308732    241537\n",
       "충남   7164439  37057955\n",
       "충북   4804638  15883448"
      ]
     },
     "execution_count": 53,
     "metadata": {},
     "output_type": "execute_result"
    }
   ],
   "source": [
    "power2"
   ]
  },
  {
   "cell_type": "code",
   "execution_count": 54,
   "metadata": {},
   "outputs": [
    {
     "data": {
      "text/plain": [
       "17"
      ]
     },
     "execution_count": 54,
     "metadata": {},
     "output_type": "execute_result"
    }
   ],
   "source": [
    "len(power2['서비스업'])"
   ]
  },
  {
   "cell_type": "code",
   "execution_count": 55,
   "metadata": {},
   "outputs": [
    {
     "data": {
      "text/plain": [
       "(17, 2)"
      ]
     },
     "execution_count": 55,
     "metadata": {},
     "output_type": "execute_result"
    }
   ],
   "source": [
    "power2.shape"
   ]
  },
  {
   "cell_type": "code",
   "execution_count": 56,
   "metadata": {},
   "outputs": [
    {
     "data": {
      "text/plain": [
       "17"
      ]
     },
     "execution_count": 56,
     "metadata": {},
     "output_type": "execute_result"
    }
   ],
   "source": [
    "power2.shape[0]"
   ]
  },
  {
   "cell_type": "code",
   "execution_count": 57,
   "metadata": {},
   "outputs": [
    {
     "data": {
      "text/plain": [
       "range(0, 5)"
      ]
     },
     "execution_count": 57,
     "metadata": {},
     "output_type": "execute_result"
    }
   ],
   "source": [
    "x=range(5);x # x는 0,1,2,3,4라는 뜻"
   ]
  },
  {
   "cell_type": "code",
   "execution_count": 58,
   "metadata": {},
   "outputs": [
    {
     "data": {
      "image/png": "[encoded data removed]",
      "text/plain": [
       "<Figure size 720x576 with 1 Axes>"
      ]
     },
     "metadata": {
      "needs_background": "light"
     },
     "output_type": "display_data"
    }
   ],
   "source": [
    "plt.figure(figsize=(10,8))\n",
    "plt.scatter(power2['서비스업'],power2['제조업'])\n",
    "for n in range(power2.shape[0]):\n",
    "    plt.text(power2['서비스업'][n]*1.02,power2['제조업'][n]*0.98,power2.index[n])\n",
    "    # n이 0부터 16까지 가면서 서비스업과 , 제조업의 scatter를 그리고 그 n에 해당하는 index가 나타남\n",
    "    #for문 아래는 항상 tab이 되어있어야 함(tab이 빠지면 에러가 남)"
   ]
  },
  {
   "cell_type": "markdown",
   "metadata": {},
   "source": [
    "# if문, for문, 사용자함수 예시"
   ]
  },
  {
   "cell_type": "code",
   "execution_count": 59,
   "metadata": {},
   "outputs": [
    {
     "name": "stdout",
     "output_type": "stream",
     "text": [
      "ok\n",
      "13\n"
     ]
    }
   ],
   "source": [
    "x=3\n",
    "if x>2:\n",
    "    print('ok')\n",
    "    x=x+10\n",
    "    print(x)    \n",
    "else:\n",
    "    print('no')\n",
    "    \n",
    "# if문 예시\n"
   ]
  },
  {
   "cell_type": "code",
   "execution_count": 60,
   "metadata": {},
   "outputs": [
    {
     "name": "stdout",
     "output_type": "stream",
     "text": [
      "100\n",
      "0\n",
      "101\n",
      "1\n",
      "102\n",
      "2\n",
      "103\n",
      "3\n",
      "104\n",
      "4\n"
     ]
    }
   ],
   "source": [
    "for i in range(5):\n",
    "    print(i+100)\n",
    "    print(i)\n",
    "# for문 예시"
   ]
  },
  {
   "cell_type": "code",
   "execution_count": 61,
   "metadata": {},
   "outputs": [],
   "source": [
    "def my_func(i=10):\n",
    "    print(i+100)"
   ]
  },
  {
   "cell_type": "code",
   "execution_count": 62,
   "metadata": {},
   "outputs": [
    {
     "name": "stdout",
     "output_type": "stream",
     "text": [
      "110\n"
     ]
    }
   ],
   "source": [
    "my_func() #my_func 예시"
   ]
  },
  {
   "cell_type": "markdown",
   "metadata": {},
   "source": [
    "# 산포도 그리기"
   ]
  },
  {
   "cell_type": "code",
   "execution_count": 63,
   "metadata": {},
   "outputs": [
    {
     "data": {
      "image/png": "[encoded data removed]",
      "text/plain": [
       "<Figure size 720x576 with 1 Axes>"
      ]
     },
     "metadata": {
      "needs_background": "light"
     },
     "output_type": "display_data"
    }
   ],
   "source": [
    "plt.figure(figsize=(10,8))\n",
    "plt.xlabel('서비스업')\n",
    "plt.ylabel('제조업')\n",
    "plt.scatter(power2['서비스업'],power2['제조업'])\n",
    "for n in range(power2.shape[0]):\n",
    "    plt.text(power2['서비스업'][n]*1.02,power2['제조업'][n]*0.98,power2.index[n])\n",
    "    # n이 0부터 16까지 가면서 서비스업과 , 제조업의 scatter를 그리고 그 n에 해당하는 index가 나타남\n",
    "    # for문 아래는 항상 tab이 되어있어야 함(tab이 빠지면 에러가 남)\n",
    "    # 경기와 서울이 빠진 그래프를 그림(값이 큰 서울과 경기를 제외하고 다른 도시들과의 관계를 한눈에 볼 수 있음)"
   ]
  },
  {
   "cell_type": "code",
   "execution_count": 64,
   "metadata": {},
   "outputs": [],
   "source": [
    "power3=power2.drop(['서울','경기'])"
   ]
  },
  {
   "cell_type": "code",
   "execution_count": 65,
   "metadata": {},
   "outputs": [],
   "source": [
    "power2=power3"
   ]
  },
  {
   "cell_type": "markdown",
   "metadata": {},
   "source": [
    "# 클러스터링 : 성격이 비슷한 데이터끼리 묶는 것"
   ]
  },
  {
   "cell_type": "code",
   "execution_count": 66,
   "metadata": {},
   "outputs": [
    {
     "data": {
      "text/plain": [
       "<Figure size 720x360 with 0 Axes>"
      ]
     },
     "metadata": {},
     "output_type": "display_data"
    }
   ],
   "source": [
    "from scipy.cluster.hierarchy import dendrogram, linkage\n",
    "\n",
    "plt.figure(figsize=(10,5))\n",
    "link_dist=linkage(power2, metric='euclidean', method='ward') \n",
    "#link_dist점들 사이의 거리를 가장 가까운순으로 밑에 배치, linkage : 점들 사이의 거리를 구함\n"
   ]
  },
  {
   "cell_type": "code",
   "execution_count": 67,
   "metadata": {},
   "outputs": [
    {
     "data": {
      "text/plain": [
       "<function matplotlib.pyplot.show(*args, **kw)>"
      ]
     },
     "execution_count": 67,
     "metadata": {},
     "output_type": "execute_result"
    },
    {
     "data": {
      "image/png": "[encoded data removed]",
      "text/plain": [
       "<Figure size 432x288 with 1 Axes>"
      ]
     },
     "metadata": {
      "needs_background": "light"
     },
     "output_type": "display_data"
    }
   ],
   "source": [
    "dendrogram(link_dist, labels = power2.index) #덴드로그램을 그린다(link_dist를 기준으로)\n",
    "\n",
    "plt.show"
   ]
  },
  {
   "cell_type": "code",
   "execution_count": 68,
   "metadata": {},
   "outputs": [
    {
     "name": "stdout",
     "output_type": "stream",
     "text": [
      "[3 1 4 0 3 0 3 0 4 5 1 5 0 2 5]\n",
      "[[ 2521262.5         1815892.5       ]\n",
      " [ 7179198.         19753852.        ]\n",
      " [ 7164439.         37057955.        ]\n",
      " [ 6418785.33333333  6459169.        ]\n",
      " [ 6068394.         27999366.5       ]\n",
      " [ 5623124.         13739046.33333333]]\n"
     ]
    }
   ],
   "source": [
    "from sklearn.cluster import KMeans\n",
    "k = KMeans(n_clusters=6).fit(power2)\n",
    "\n",
    "print(k.labels_)\n",
    "print(k.cluster_centers_)"
   ]
  },
  {
   "cell_type": "code",
   "execution_count": 69,
   "metadata": {},
   "outputs": [],
   "source": [
    "power2['클러스터종류']=k.labels_"
   ]
  },
  {
   "cell_type": "code",
   "execution_count": 70,
   "metadata": {},
   "outputs": [
    {
     "data": {
      "text/html": [
       "<div>\n",
       "<style scoped>\n",
       "    .dataframe tbody tr th:only-of-type {\n",
       "        vertical-align: middle;\n",
       "    }\n",
       "\n",
       "    .dataframe tbody tr th {\n",
       "        vertical-align: top;\n",
       "    }\n",
       "\n",
       "    .dataframe thead th {\n",
       "        text-align: right;\n",
       "    }\n",
       "</style>\n",
       "<table border=\"1\" class=\"dataframe\">\n",
       "  <thead>\n",
       "    <tr style=\"text-align: right;\">\n",
       "      <th></th>\n",
       "      <th>서비스업</th>\n",
       "      <th>제조업</th>\n",
       "      <th>클러스터종류</th>\n",
       "    </tr>\n",
       "    <tr>\n",
       "      <th>구분</th>\n",
       "      <th></th>\n",
       "      <th></th>\n",
       "      <th></th>\n",
       "    </tr>\n",
       "  </thead>\n",
       "  <tbody>\n",
       "    <tr>\n",
       "      <th>강원</th>\n",
       "      <td>6203749</td>\n",
       "      <td>6002286</td>\n",
       "      <td>3</td>\n",
       "    </tr>\n",
       "    <tr>\n",
       "      <th>경남</th>\n",
       "      <td>8667737</td>\n",
       "      <td>18053778</td>\n",
       "      <td>1</td>\n",
       "    </tr>\n",
       "    <tr>\n",
       "      <th>경북</th>\n",
       "      <td>8487402</td>\n",
       "      <td>30115601</td>\n",
       "      <td>4</td>\n",
       "    </tr>\n",
       "    <tr>\n",
       "      <th>광주</th>\n",
       "      <td>3174973</td>\n",
       "      <td>2910768</td>\n",
       "      <td>0</td>\n",
       "    </tr>\n",
       "    <tr>\n",
       "      <th>대구</th>\n",
       "      <td>5470438</td>\n",
       "      <td>5862633</td>\n",
       "      <td>3</td>\n",
       "    </tr>\n",
       "    <tr>\n",
       "      <th>대전</th>\n",
       "      <td>3955921</td>\n",
       "      <td>2608343</td>\n",
       "      <td>0</td>\n",
       "    </tr>\n",
       "    <tr>\n",
       "      <th>부산</th>\n",
       "      <td>7582169</td>\n",
       "      <td>7512588</td>\n",
       "      <td>3</td>\n",
       "    </tr>\n",
       "    <tr>\n",
       "      <th>세종</th>\n",
       "      <td>645424</td>\n",
       "      <td>1502922</td>\n",
       "      <td>0</td>\n",
       "    </tr>\n",
       "    <tr>\n",
       "      <th>울산</th>\n",
       "      <td>3649386</td>\n",
       "      <td>25883132</td>\n",
       "      <td>4</td>\n",
       "    </tr>\n",
       "    <tr>\n",
       "      <th>인천</th>\n",
       "      <td>7154416</td>\n",
       "      <td>12367816</td>\n",
       "      <td>5</td>\n",
       "    </tr>\n",
       "    <tr>\n",
       "      <th>전남</th>\n",
       "      <td>5690659</td>\n",
       "      <td>21453926</td>\n",
       "      <td>1</td>\n",
       "    </tr>\n",
       "    <tr>\n",
       "      <th>전북</th>\n",
       "      <td>4910318</td>\n",
       "      <td>12965875</td>\n",
       "      <td>5</td>\n",
       "    </tr>\n",
       "    <tr>\n",
       "      <th>제주</th>\n",
       "      <td>2308732</td>\n",
       "      <td>241537</td>\n",
       "      <td>0</td>\n",
       "    </tr>\n",
       "    <tr>\n",
       "      <th>충남</th>\n",
       "      <td>7164439</td>\n",
       "      <td>37057955</td>\n",
       "      <td>2</td>\n",
       "    </tr>\n",
       "    <tr>\n",
       "      <th>충북</th>\n",
       "      <td>4804638</td>\n",
       "      <td>15883448</td>\n",
       "      <td>5</td>\n",
       "    </tr>\n",
       "  </tbody>\n",
       "</table>\n",
       "</div>"
      ],
      "text/plain": [
       "       서비스업       제조업  클러스터종류\n",
       "구분                           \n",
       "강원  6203749   6002286       3\n",
       "경남  8667737  18053778       1\n",
       "경북  8487402  30115601       4\n",
       "광주  3174973   2910768       0\n",
       "대구  5470438   5862633       3\n",
       "대전  3955921   2608343       0\n",
       "부산  7582169   7512588       3\n",
       "세종   645424   1502922       0\n",
       "울산  3649386  25883132       4\n",
       "인천  7154416  12367816       5\n",
       "전남  5690659  21453926       1\n",
       "전북  4910318  12965875       5\n",
       "제주  2308732    241537       0\n",
       "충남  7164439  37057955       2\n",
       "충북  4804638  15883448       5"
      ]
     },
     "execution_count": 70,
     "metadata": {},
     "output_type": "execute_result"
    }
   ],
   "source": [
    "power2\n"
   ]
  },
  {
   "cell_type": "markdown",
   "metadata": {},
   "source": [
    "# 181219"
   ]
  },
  {
   "cell_type": "markdown",
   "metadata": {},
   "source": [
    "## tab이 필요한 경우\n",
    " - if문(if,elif,else)\n",
    " - for문\n",
    " - 함수정의(def my_func)\n",
    " - 들여쓰기도 틀리면 오류 남\n",
    " \n",
    " "
   ]
  },
  {
   "cell_type": "code",
   "execution_count": 71,
   "metadata": {},
   "outputs": [
    {
     "name": "stdout",
     "output_type": "stream",
     "text": [
      "no\n"
     ]
    }
   ],
   "source": [
    "#if문\n",
    "\n",
    "x=1\n",
    "if x > 2:\n",
    "    \n",
    "    print('ok')\n",
    "    x=x+10\n",
    "    print(x)\n",
    "\n",
    "else:\n",
    "    print('no')\n",
    "    \n",
    "    "
   ]
  },
  {
   "cell_type": "code",
   "execution_count": 72,
   "metadata": {},
   "outputs": [
    {
     "name": "stdout",
     "output_type": "stream",
     "text": [
      "100\n",
      "101\n",
      "102\n",
      "103\n",
      "104\n"
     ]
    }
   ],
   "source": [
    "for i in range(5):\n",
    "    print(i+100)"
   ]
  },
  {
   "cell_type": "code",
   "execution_count": 73,
   "metadata": {},
   "outputs": [
    {
     "name": "stdout",
     "output_type": "stream",
     "text": [
      "104\n"
     ]
    }
   ],
   "source": [
    "def my_func(i):\n",
    "    print(i+100)\n",
    "my_func(4)"
   ]
  },
  {
   "cell_type": "markdown",
   "metadata": {},
   "source": [
    "# -------한국전력거래소 예제 핵심 코드(복습)-------\n"
   ]
  },
  {
   "cell_type": "code",
   "execution_count": 101,
   "metadata": {},
   "outputs": [],
   "source": [
    "import pandas as pd\n",
    "power=pd.read_excel('data/시도별_용도별.xls')"
   ]
  },
  {
   "cell_type": "code",
   "execution_count": 102,
   "metadata": {},
   "outputs": [],
   "source": [
    "import matplotlib\n",
    "import numpy as np\n",
    "import matplotlib.pyplot as plt\n",
    "%matplotlib inline "
   ]
  },
  {
   "cell_type": "code",
   "execution_count": 103,
   "metadata": {},
   "outputs": [],
   "source": [
    "from matplotlib import font_manager, rc\n",
    "path = \"c:\\windows\\Fonts\\malgun.ttf\"\n",
    "font_name=font_manager.FontProperties(fname=path).get_name()\n",
    "rc('font',family=font_name)\n",
    "# matplot에서 한글을 지원받는 법\n",
    "\n",
    "plt.rcParams['axes.unicode_minus']=False \n",
    "# matplot에서 마이너스 값을 지원받는 법"
   ]
  },
  {
   "cell_type": "code",
   "execution_count": 104,
   "metadata": {},
   "outputs": [],
   "source": [
    "power.set_index('구분',inplace=True)\n",
    "power = power.drop(['개성','합계'],axis=0,errors='ignore') # 행에서 삭제 #errors='ignore'은 에러가 나도 무시하고 실행하라는 뜻\n",
    "# 원래는 axis=0 때문에 에러가 남\n",
    "power1=power.drop('합계',axis=1) # 열에서 삭제 \n",
    "power2=power1[['서비스업','제조업']]\n"
   ]
  },
  {
   "cell_type": "code",
   "execution_count": 105,
   "metadata": {},
   "outputs": [
    {
     "data": {
      "image/png": "[encoded data removed]",
      "text/plain": [
       "<Figure size 720x576 with 1 Axes>"
      ]
     },
     "metadata": {
      "needs_background": "light"
     },
     "output_type": "display_data"
    }
   ],
   "source": [
    "plt.figure(figsize=(10,8))\n",
    "plt.xlabel('서비스업')\n",
    "plt.ylabel('제조업')\n",
    "plt.scatter(power3['서비스업'],power3['제조업'])\n",
    "for n in range(power3.shape[0]): \n",
    "        plt.text(power3['서비스업'][n]*1.02, power3['제조업'][n]*0.98,power3.index[n]) \n",
    "        # index[n]은 시도별 이름을 붙이기 위함"
   ]
  },
  {
   "cell_type": "markdown",
   "metadata": {},
   "source": [
    "## 주의\n",
    "## power와 power1,2,3\n",
    "## power : 원데이터\n",
    "## power1 :  column(열)에서 합계를 지운 데이터\n",
    "## power2 : power1에서 서비스업과 제조업만 뽑아낸 데이터\n",
    "## power3 : power2에서 서울, 경기의 값을 제외한 데이터\n",
    " - 산포도그리기부터는 power2=power3로 정의하였음"
   ]
  },
  {
   "cell_type": "markdown",
   "metadata": {},
   "source": [
    "# ----------------------핵심 코드 끝----------------------"
   ]
  },
  {
   "cell_type": "code",
   "execution_count": 80,
   "metadata": {},
   "outputs": [
    {
     "data": {
      "text/plain": [
       "(array([0.3226297 , 0.11486274, 0.88500392, 0.18560986, 0.00968571]),\n",
       " array([0.33863649, 0.66025203, 0.37254772, 0.56122194, 0.27442795]))"
      ]
     },
     "execution_count": 80,
     "metadata": {},
     "output_type": "execute_result"
    }
   ],
   "source": [
    "x=np.random.rand(5)\n",
    "y=np.random.rand(5)\n",
    "x,y"
   ]
  },
  {
   "cell_type": "code",
   "execution_count": 81,
   "metadata": {},
   "outputs": [
    {
     "data": {
      "text/plain": [
       "<matplotlib.collections.PathCollection at 0x128cc610>"
      ]
     },
     "execution_count": 81,
     "metadata": {},
     "output_type": "execute_result"
    },
    {
     "data": {
      "image/png": "[encoded data removed]",
      "text/plain": [
       "<Figure size 432x288 with 1 Axes>"
      ]
     },
     "metadata": {
      "needs_background": "light"
     },
     "output_type": "display_data"
    }
   ],
   "source": [
    "plt.scatter(x,y)"
   ]
  },
  {
   "cell_type": "code",
   "execution_count": 82,
   "metadata": {},
   "outputs": [
    {
     "data": {
      "text/plain": [
       "0.11486274445378009"
      ]
     },
     "execution_count": 82,
     "metadata": {},
     "output_type": "execute_result"
    }
   ],
   "source": [
    "x[1]"
   ]
  },
  {
   "cell_type": "code",
   "execution_count": 83,
   "metadata": {},
   "outputs": [
    {
     "data": {
      "text/plain": [
       "5"
      ]
     },
     "execution_count": 83,
     "metadata": {},
     "output_type": "execute_result"
    }
   ],
   "source": [
    "x.shape[0] # x의 사이즈를 알고 싶을 때"
   ]
  },
  {
   "cell_type": "code",
   "execution_count": 84,
   "metadata": {},
   "outputs": [
    {
     "data": {
      "image/png": "[encoded data removed]",
      "text/plain": [
       "<Figure size 432x288 with 1 Axes>"
      ]
     },
     "metadata": {
      "needs_background": "light"
     },
     "output_type": "display_data"
    }
   ],
   "source": [
    "for n in range(x.shape[0]):\n",
    "    plt.scatter(x[n],y[n])\n",
    "    plt.text(x[n]*1.02,y[n]*1.01,n)\n",
    "# n은 좌표에 번호를 붙이고 index[n]은 좌표에 인덱스 이름을 붙임"
   ]
  },
  {
   "cell_type": "code",
   "execution_count": null,
   "metadata": {},
   "outputs": [],
   "source": []
  },
  {
   "cell_type": "code",
   "execution_count": null,
   "metadata": {},
   "outputs": [],
   "source": []
  },
  {
   "cell_type": "code",
   "execution_count": null,
   "metadata": {},
   "outputs": [],
   "source": []
  }
 ],
 "metadata": {
  "kernelspec": {
   "display_name": "Python 3",
   "language": "python",
   "name": "python3"
  },
  "language_info": {
   "codemirror_mode": {
    "name": "ipython",
    "version": 3
   },
   "file_extension": ".py",
   "mimetype": "text/x-python",
   "name": "python",
   "nbconvert_exporter": "python",
   "pygments_lexer": "ipython3",
   "version": "3.7.0"
  }
 },
 "nbformat": 4,
 "nbformat_minor": 2
}
