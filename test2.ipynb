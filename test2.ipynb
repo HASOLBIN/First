{
 "cells": [
  {
   "cell_type": "markdown",
   "metadata": {},
   "source": [
    "# ----------------복습------------------\n",
    "\n",
    "## 변수들\n",
    "- 내용\n",
    "- 정수, 소수, 논리, 문자열\n",
    "- 리스트, 튜플, 딕셔너리\n",
    "- if, for, def\n",
    "\n",
    "\n",
    "## [ 가 나타나는 경우\n",
    "- 인덱싱\n",
    "- 리스트\n",
    "\n",
    "## ( 가 필요한 경우\n",
    "- 튜플\n",
    "- 함수 호출\n",
    "\n",
    "## 데이터 분석\n",
    "1. 생성자 : 모델\n",
    "2. 학습 : fit\n",
    "3. 예측 : predict, transform\n",
    "\n",
    "## 들여쓰기(indentatio)\n",
    "- 크기가 같아야 한다."
   ]
  },
  {
   "cell_type": "code",
   "execution_count": 89,
   "metadata": {},
   "outputs": [
    {
     "name": "stdout",
     "output_type": "stream",
     "text": [
      "0\n",
      "10\n",
      "20\n",
      "30\n",
      "40\n"
     ]
    }
   ],
   "source": [
    "for n in range(5):\n",
    "    print(n*10)\n",
    "    "
   ]
  },
  {
   "cell_type": "code",
   "execution_count": 90,
   "metadata": {},
   "outputs": [
    {
     "name": "stdout",
     "output_type": "stream",
     "text": [
      "20\n"
     ]
    }
   ],
   "source": [
    "n=20\n",
    "if n>10:\n",
    "    print(n)"
   ]
  },
  {
   "cell_type": "code",
   "execution_count": 91,
   "metadata": {},
   "outputs": [
    {
     "name": "stdout",
     "output_type": "stream",
     "text": [
      "100 1 20 10000\n"
     ]
    }
   ],
   "source": [
    "def my_f(b, d, a=100,c=20):\n",
    "    print(a,b,c,d)\n",
    "    \n",
    "my_f(1,10000)"
   ]
  },
  {
   "cell_type": "code",
   "execution_count": 92,
   "metadata": {},
   "outputs": [
    {
     "data": {
      "text/plain": [
       "array([0.25, 0.33, 0.02, 0.5 , 0.77, 0.18, 0.17, 0.41, 0.48, 0.18, 0.19,\n",
       "       0.08])"
      ]
     },
     "execution_count": 92,
     "metadata": {},
     "output_type": "execute_result"
    }
   ],
   "source": [
    "import numpy as np\n",
    "\n",
    "x=np.random.rand(12).round(2)\n",
    "x"
   ]
  },
  {
   "cell_type": "code",
   "execution_count": 93,
   "metadata": {
    "scrolled": false
   },
   "outputs": [
    {
     "data": {
      "text/plain": [
       "array([[0.25, 0.33, 0.02, 0.5 , 0.77, 0.18],\n",
       "       [0.17, 0.41, 0.48, 0.18, 0.19, 0.08]])"
      ]
     },
     "execution_count": 93,
     "metadata": {},
     "output_type": "execute_result"
    }
   ],
   "source": [
    "x.reshape(2,6)"
   ]
  },
  {
   "cell_type": "code",
   "execution_count": 94,
   "metadata": {},
   "outputs": [
    {
     "data": {
      "text/plain": [
       "array([[0.25, 0.33, 0.02, 0.5 , 0.77, 0.18, 0.17, 0.41, 0.48, 0.18, 0.19,\n",
       "        0.08]])"
      ]
     },
     "execution_count": 94,
     "metadata": {},
     "output_type": "execute_result"
    }
   ],
   "source": [
    "x.reshape(1,-1)"
   ]
  },
  {
   "cell_type": "code",
   "execution_count": 95,
   "metadata": {},
   "outputs": [
    {
     "data": {
      "text/plain": [
       "array([[0.25],\n",
       "       [0.33],\n",
       "       [0.02],\n",
       "       [0.5 ],\n",
       "       [0.77],\n",
       "       [0.18],\n",
       "       [0.17],\n",
       "       [0.41],\n",
       "       [0.48],\n",
       "       [0.18],\n",
       "       [0.19],\n",
       "       [0.08]])"
      ]
     },
     "execution_count": 95,
     "metadata": {},
     "output_type": "execute_result"
    }
   ],
   "source": [
    "x.reshape(-1,1)"
   ]
  },
  {
   "cell_type": "code",
   "execution_count": 96,
   "metadata": {},
   "outputs": [
    {
     "data": {
      "text/plain": [
       "array([ 0,  1,  2,  3,  4,  5,  6,  7,  8,  9, 10, 11])"
      ]
     },
     "execution_count": 96,
     "metadata": {},
     "output_type": "execute_result"
    }
   ],
   "source": [
    "x=np.arange(12);x"
   ]
  },
  {
   "cell_type": "code",
   "execution_count": 97,
   "metadata": {},
   "outputs": [
    {
     "data": {
      "text/plain": [
       "array([[ 0,  1,  2,  3],\n",
       "       [ 4,  5,  6,  7],\n",
       "       [ 8,  9, 10, 11]])"
      ]
     },
     "execution_count": 97,
     "metadata": {},
     "output_type": "execute_result"
    }
   ],
   "source": [
    "x=x.reshape(3,4);x"
   ]
  },
  {
   "cell_type": "code",
   "execution_count": 98,
   "metadata": {},
   "outputs": [
    {
     "data": {
      "text/plain": [
       "array([1.5, 5.5, 9.5])"
      ]
     },
     "execution_count": 98,
     "metadata": {},
     "output_type": "execute_result"
    }
   ],
   "source": [
    "x.mean(axis=1) #가로평균"
   ]
  },
  {
   "cell_type": "code",
   "execution_count": 99,
   "metadata": {},
   "outputs": [
    {
     "data": {
      "text/plain": [
       "array([4., 5., 6., 7.])"
      ]
     },
     "execution_count": 99,
     "metadata": {},
     "output_type": "execute_result"
    }
   ],
   "source": [
    "x.mean(axis=0) # 세로평균"
   ]
  },
  {
   "cell_type": "code",
   "execution_count": 100,
   "metadata": {},
   "outputs": [
    {
     "data": {
      "text/plain": [
       "5.5"
      ]
     },
     "execution_count": 100,
     "metadata": {},
     "output_type": "execute_result"
    }
   ],
   "source": [
    "x.mean() #전체평균"
   ]
  },
  {
   "cell_type": "code",
   "execution_count": 101,
   "metadata": {},
   "outputs": [
    {
     "data": {
      "text/plain": [
       "array([0.77, 0.02, 0.63, 0.75, 0.5 , 0.22, 0.2 , 0.76, 0.17, 0.09, 0.69,\n",
       "       0.95])"
      ]
     },
     "execution_count": 101,
     "metadata": {},
     "output_type": "execute_result"
    }
   ],
   "source": [
    "import numpy as np\n",
    "\n",
    "np.random.seed(10) #seed는 고정시키고 싶을 때\n",
    "x=np.random.rand(12).round(2)\n",
    "x"
   ]
  },
  {
   "cell_type": "markdown",
   "metadata": {},
   "source": [
    "## 예제 : 랜덤값을 두개를 받아서 파이 값 구하기(몬테카를로 기법)"
   ]
  },
  {
   "cell_type": "code",
   "execution_count": 102,
   "metadata": {},
   "outputs": [
    {
     "data": {
      "text/plain": [
       "3.140584"
      ]
     },
     "execution_count": 102,
     "metadata": {},
     "output_type": "execute_result"
    }
   ],
   "source": [
    "x=np.random.rand(10000000)\n",
    "y=np.random.rand(10000000)\n",
    "\n",
    "sum((x*x + y*y)<1)*4/10000000\n",
    "# x제곱과 y제곱을 더해서 1보다 작으면 더한 값에 곱하기 4해서 갯수로 나눠주면 파이가 됨\n",
    "# 부등호가 있는 순간에 true로 바뀜, 점이 안에 찍히면 true, 바깥에 찍히면 false\n",
    "# true는 1로 계산하기 때문에 안에 점들만 더해서 계산해줌"
   ]
  },
  {
   "cell_type": "code",
   "execution_count": null,
   "metadata": {},
   "outputs": [],
   "source": []
  },
  {
   "cell_type": "code",
   "execution_count": 115,
   "metadata": {},
   "outputs": [
    {
     "data": {
      "text/plain": [
       "[<matplotlib.lines.Line2D at 0x9ba53b0>]"
      ]
     },
     "execution_count": 115,
     "metadata": {},
     "output_type": "execute_result"
    },
    {
     "data": {
      "image/png": "[encoded data removed]",
      "text/plain": [
       "<Figure size 288x288 with 1 Axes>"
      ]
     },
     "metadata": {
      "needs_background": "light"
     },
     "output_type": "display_data"
    }
   ],
   "source": [
    "x=np.random.rand(5000)\n",
    "y=np.random.rand(5000)\n",
    "\n",
    "import matplotlib.pyplot as plt\n",
    "%matplotlib inline\n",
    "\n",
    "plt.figure(figsize=(4,4))\n",
    "plt.scatter(x,y,s=1)\n",
    "\n",
    "a=np.linspace(0,1,100) \n",
    "# 0부터 1까지를 100개의 구간으로 나누어 선을 긋는 것(그 안에 xx가 들어감)\n",
    "# 100개정도 해야 선이 완만해짐\n",
    "\n",
    "b=(1-a*a)**0.5\n",
    "#b=b**0.5\n",
    "yy\n",
    "\n",
    "plt.plot(a,b,c='r')\n",
    "#sum((x*x + y*y)<1)*4/10000000\n"
   ]
  }
 ],
 "metadata": {
  "kernelspec": {
   "display_name": "Python 3",
   "language": "python",
   "name": "python3"
  },
  "language_info": {
   "codemirror_mode": {
    "name": "ipython",
    "version": 3
   },
   "file_extension": ".py",
   "mimetype": "text/x-python",
   "name": "python",
   "nbconvert_exporter": "python",
   "pygments_lexer": "ipython3",
   "version": "3.7.0"
  }
 },
 "nbformat": 4,
 "nbformat_minor": 2
}
